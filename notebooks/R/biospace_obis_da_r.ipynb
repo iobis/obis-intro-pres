{
 "cells": [
  {
   "cell_type": "markdown",
   "metadata": {},
   "source": [
    "# Accessing OBIS data\n",
    "\n",
    "OBIS holds more than 136 million records, across >5,000 datasets, and with >181 million measurements. This huge amount of data is driving research across a diverse range of topics.\n",
    "\n",
    "Here we will explore how to access OBIS data through **R**, but all the operations can also be done through **Python**. Check the [`pyobis` module]() and the other notebooks in this repo. We will focus on getting the different types of data, rather than on its direct application/integration with remote sensing, although a few examples will be provided.\n",
    "\n",
    "----\n",
    "\n",
    "`robis` is the main gateway for OBIS data through R. You can learn more about `robis` in the [OBIS manual.](https://manual.obis.org/access.html#r-package)\n",
    "\n",
    "Hands-on outline:\n",
    "\n",
    "1. Downloading occurrence records \n",
    "2. Get species lists \n",
    "3. Extended measurements\n",
    "4. Events and time series\n",
    "\n",
    "In a second notebook, we will explore two other products:\n",
    "\n",
    "1. Full export \n",
    "2. Gridded product \n",
    "\n",
    "Before starting, we need to install a few packages on Google Colab (if you are using Binder, just skip this cell):"
   ]
  },
  {
   "cell_type": "code",
   "execution_count": null,
   "metadata": {
    "vscode": {
     "languageId": "r"
    }
   },
   "outputs": [],
   "source": [
    "# On your local computer you can use install.packages() for everything\n",
    "# Here we use the system interface to some, as the installation\n",
    "# with r2u is faster.\n",
    "system(\"apt-get install r-cran-sf r-cran-terra\") # Spatial packages\n",
    "system(\"apt-get install r-cran-robis\")           # OBIS API interface\n",
    "system(\"apt-get install r-cran-arrow\")           # To deal with full export\n",
    "system(\"apt-get install r-cran-DBI\")             # To deal with full export\n",
    "system(\"apt-get install r-cran-duckdb\")          # To deal with full export\n",
    "system(\"apt-get install r-cran-rnaturalearth\")   # For mapping\n",
    "system(\"apt-get install r-cran-h3jsr\")           # For indexing (H3 sytem)\n",
    "\n",
    "# Install additional from GitHub\n",
    "system(\"apt-get install r-cran-bspm\")\n",
    "bspm::enable()\n",
    "devtools::install_github(\"iobis/obistools\")\n",
    "devtools::install_github(\"ropensci/mregions2\")"
   ]
  },
  {
   "cell_type": "markdown",
   "metadata": {},
   "source": [
    "### 1. Downloading occurrence records\n",
    "\n",
    "To download records from OBIS we use the function `occurrence`. There are many arguments you can pass to download data for a specific species, taxonomic level or region.\n",
    "\n",
    "We will start by getting data for three taxonomic entities:\n",
    "\n",
    "<div style=\"display: flex; flex-direction: row; max-height: 200px; padding: 5px;\">\n",
    "<div>\n",
    "<p>Species: <i>Thalassia testudinum</i></p><img src=\"https://upload.wikimedia.org/wikipedia/commons/d/da/Thalassia_testudinum_%28turtle_grass%29_%28South_Pigeon_Creek_estuary%2C_San_Salvador_Island%2C_Bahamas%29_6_%2815859999657%29.jpg\" height=200 alt=\"Source: https://upload.wikimedia.org/wikipedia/commons/d/da/Thalassia_testudinum_%28turtle_grass%29_%28South_Pigeon_Creek_estuary%2C_San_Salvador_Island%2C_Bahamas%29_6_%2815859999657%29.jpg\"></img>\n",
    "</div>\n",
    "<div>\n",
    "<p>Genus: <i>Thalassia</i></p><img src=\"https://upload.wikimedia.org/wikipedia/commons/2/2e/Thalassia_Hemprichii.jpg\" height=200 alt=\"Source: https://upload.wikimedia.org/wikipedia/commons/2/2e/Thalassia_Hemprichii.jpg\"></img>\n",
    "</div>\n",
    "<div>\n",
    "<p>Order: Alismatales</p><img src=\"https://upload.wikimedia.org/wikipedia/commons/5/55/Eelgrass_%28Zostera_marina%29_-_iNaturalist.org.jpg\" height=200 alt=\"Source: https://upload.wikimedia.org/wikipedia/commons/5/55/Eelgrass_%28Zostera_marina%29_-_iNaturalist.org.jpg\"></img>\n",
    "</div>\n",
    "</div>"
   ]
  },
  {
   "cell_type": "code",
   "execution_count": null,
   "metadata": {
    "vscode": {
     "languageId": "r"
    }
   },
   "outputs": [],
   "source": [
    "library(robis)\n",
    "library(dplyr)\n",
    "\n",
    "thal_test <- occurrence(\"Thalassia testudinum\")\n",
    "\n",
    "nrow(thal_test)\n",
    "head(thal_test)"
   ]
  },
  {
   "cell_type": "markdown",
   "metadata": {},
   "source": [
    "We can make a map of the records. For that, we can use a handy function from the `obistools` package."
   ]
  },
  {
   "cell_type": "code",
   "execution_count": null,
   "metadata": {
    "vscode": {
     "languageId": "r"
    }
   },
   "outputs": [],
   "source": [
    "library(obistools)\n",
    "\n",
    "plot_map(thal_test)"
   ]
  },
  {
   "cell_type": "markdown",
   "metadata": {},
   "source": [
    "OBIS is different in that it was created and is optimized for marine data. It matches its taxonomic names (the species identity) with the World Register of Marine Species (WoRMS). Each species (or any other taxonomic level) has a unique ID called **AphiaID**. You can see for example the entry for _Thalassia testudinum_ [here.](https://www.marinespecies.org/aphia.php?p=taxdetails&id=374720)\n",
    "\n",
    "This is important because species names can change over time, in case a species is reclassified into another group or when we discover that one species can be in fact multiple species.\n",
    "\n",
    "The `occurrence` function also accepts an argument named `taxonid`. So, the same we did on the first cell, can be done with:"
   ]
  },
  {
   "cell_type": "code",
   "execution_count": null,
   "metadata": {
    "vscode": {
     "languageId": "r"
    }
   },
   "outputs": [],
   "source": [
    "# This is the same as\n",
    "# thal_test <- occurrence(\"Thalassia testudinum\")\n",
    "thal_test <- occurrence(taxonid = 374720)"
   ]
  },
  {
   "cell_type": "markdown",
   "metadata": {},
   "source": [
    "Let's try the other taxonomic levels:"
   ]
  },
  {
   "cell_type": "code",
   "execution_count": null,
   "metadata": {
    "vscode": {
     "languageId": "r"
    }
   },
   "outputs": [],
   "source": [
    "# The genus\n",
    "thal_genus <- occurrence(\"Thalassia\")\n",
    "\n",
    "nrow(thal_genus)\n",
    "table(thal_genus$scientificName)\n",
    "\n",
    "# The order. Here we will limit by records from 2020 onwards, to speed up\n",
    "# the download\n",
    "alismatales <- occurrence(\"Alismatales\", startdate = \"2020-01-01\")\n",
    "\n",
    "nrow(alismatales)\n",
    "table(alismatales$scientificName)"
   ]
  },
  {
   "cell_type": "markdown",
   "metadata": {},
   "source": [
    "Records are organized in **datasets** that group data that was collected in a particular survey, study, monitoring, etc. We can get additional information about datasets using the `dataset` function (which can also be used to list all datasets for a specific `scientificName`)."
   ]
  },
  {
   "cell_type": "code",
   "execution_count": null,
   "metadata": {
    "vscode": {
     "languageId": "r"
    }
   },
   "outputs": [],
   "source": [
    "# Get the number of records by dataset\n",
    "thal_test_ds <- thal_test |> \n",
    "    group_by(dataset_id) |> \n",
    "    summarise(records = n())\n",
    "\n",
    "high_n <- thal_test_ds[order(thal_test_ds$records, decreasing = T), \"dataset_id\"][1,]\n",
    "\n",
    "ds_info <- dataset(datasetid = high_n$dataset_id[1])\n",
    "\n",
    "head(ds_info[,1:5])"
   ]
  },
  {
   "cell_type": "code",
   "execution_count": null,
   "metadata": {
    "vscode": {
     "languageId": "r"
    }
   },
   "outputs": [],
   "source": [
    "# Get all datasets for Thalassia testudinum\n",
    "ds_thal <- dataset(scientificname = \"Thalassia testudinum\")\n",
    "nrow(ds_thal)\n",
    "ds_thal |> select(id, url, core, records, node_name) |> head()"
   ]
  },
  {
   "cell_type": "markdown",
   "metadata": {},
   "source": [
    "It is also possible to download data for a specific area. There are two ways. The first is to use the OBIS regions. You can explore it using the mapper, for example this one: https://mapper.obis.org/?areaid=34288\n",
    "\n",
    "<img src=\"https://upload.wikimedia.org/wikipedia/commons/a/a6/Gulf_of_Mexico_topographic_location_map.png\" height=200 alt=\"Source: https://upload.wikimedia.org/wikipedia/commons/a/a6/Gulf_of_Mexico_topographic_location_map.png\"></img>"
   ]
  },
  {
   "cell_type": "code",
   "execution_count": null,
   "metadata": {
    "vscode": {
     "languageId": "r"
    }
   },
   "outputs": [],
   "source": [
    "# If you pass only the areaid as below it will download all the data for that\n",
    "# area. In this case, it is a huge amount (3,141,354 records)! So, let's not try.\n",
    "# gulf <- occurrence(areaid = 27)\n",
    "# Instead, we will get all records of Thalassia testudinum here:\n",
    "gulf_seagrass <- occurrence(areaid = 34288, scientificname = \"Thalassia testudinum\")\n",
    "\n",
    "head(gulf_seagrass)"
   ]
  },
  {
   "cell_type": "markdown",
   "metadata": {},
   "source": [
    "Another approach is to pass a geometry in Well-known Text (WKT). You can draw polygons in this website: https://wktmap.com/"
   ]
  },
  {
   "cell_type": "code",
   "execution_count": null,
   "metadata": {
    "vscode": {
     "languageId": "r"
    }
   },
   "outputs": [],
   "source": [
    "# Let's get data for the Florida region, regarding some seagrass species:\n",
    "wkt_area <- \"POLYGON ((-84.353027 23.180764, -77.980957 23.180764, -77.980957 28.22697, -84.353027 28.22697, -84.353027 23.180764))\"\n",
    "\n",
    "# We can check it by plotting\n",
    "wrld <- rnaturalearth::ne_countries(returnclass = \"sf\")\n",
    "wkt_sf <- sf::st_as_sfc(wkt_area)\n",
    "terra::plot(terra::vect(wrld[,1]), xlim = c(-87, -74), ylim = c(21, 29), col = \"grey70\")\n",
    "terra::lines(terra::vect(wkt_sf), col = \"blue\")"
   ]
  },
  {
   "cell_type": "code",
   "execution_count": null,
   "metadata": {
    "vscode": {
     "languageId": "r"
    }
   },
   "outputs": [],
   "source": [
    "occ_area <- occurrence(\n",
    "    scientificname = \"Alismatales\",\n",
    "    geometry = wkt_area\n",
    ")\n",
    "\n",
    "nrow(occ_area)\n",
    "\n",
    "plot_map(occ_area, zoom = T)"
   ]
  },
  {
   "cell_type": "markdown",
   "metadata": {},
   "source": [
    "OBIS has occurrence information, but also absence data. The extent to which those absences can be considered to be a \"true\" absence depends on the methods used to collect the data. There are many datasets that were collected using standard methods, and for which the absences can be considered of a good quality. Let's run again the previous code, but with the option `absence = \"include\"`"
   ]
  },
  {
   "cell_type": "code",
   "execution_count": null,
   "metadata": {
    "vscode": {
     "languageId": "r"
    }
   },
   "outputs": [],
   "source": [
    "occ_area <- occurrence(\n",
    "    scientificname = \"Alismatales\",\n",
    "    geometry = wkt_area,\n",
    "    absence = \"include\"\n",
    ")"
   ]
  },
  {
   "cell_type": "code",
   "execution_count": null,
   "metadata": {
    "vscode": {
     "languageId": "r"
    }
   },
   "outputs": [],
   "source": [
    "occ_area |> \n",
    "    group_by(dataset_id, absence) |> \n",
    "    count() |> \n",
    "    arrange(desc(n)) |> \n",
    "    head()\n"
   ]
  },
  {
   "cell_type": "markdown",
   "metadata": {},
   "source": [
    "We see that there are two datasets with a great number of absences. Let's explore the second one, which is the [\"South Florida Fisheries Habitat Assessment Program (FHAP-SF)\"](https://obis.org/dataset/04326c80-e971-4110-9884-20f843ee73ba).\n",
    "\n",
    "We will just filter the previous data, but you can download the data for only this dataset by using:\n",
    "\n",
    "`occurrence(datasetid = \"04326c80-e971-4110-9884-20f843ee73ba\")`"
   ]
  },
  {
   "cell_type": "code",
   "execution_count": null,
   "metadata": {
    "vscode": {
     "languageId": "r"
    }
   },
   "outputs": [],
   "source": [
    "fhap_ds <- occ_area |> \n",
    "    filter(dataset_id == \"04326c80-e971-4110-9884-20f843ee73ba\")\n",
    "\n",
    "table(fhap_ds$absence)\n",
    "\n",
    "terra::plot(terra::vect(wrld[,1]), xlim = c(-82, -80), ylim = c(24, 26), col = \"grey70\")\n",
    "terra::lines(terra::vect(wkt_sf), col = \"blue\")\n",
    "points(fhap_ds[,c(\"decimalLongitude\", \"decimalLatitude\")],\n",
    "        col = as.factor(fhap_ds$absence), pch = 20, cex = .2)"
   ]
  },
  {
   "cell_type": "markdown",
   "metadata": {},
   "source": [
    "This type of information can be used to ground-truth maps or models, or to train a model. We will show a simple (and not scientifically accurate) example of a classification model using this data."
   ]
  },
  {
   "cell_type": "markdown",
   "metadata": {},
   "source": [
    "### 2. Get species lists \n",
    "\n",
    "Sometimes we are only interested in knowing which species are present in a region. This information, called a checklist, can be easily obtained through the function `robis::checklist()`. Let's try with another region, a polygon covering the Gulf of Finland."
   ]
  },
  {
   "cell_type": "code",
   "execution_count": null,
   "metadata": {
    "vscode": {
     "languageId": "r"
    }
   },
   "outputs": [],
   "source": [
    "gulf_fin <- \"POLYGON ((21.247559 57.984808, 29.443359 57.984808, 29.443359 61.522695, 21.247559 61.522695, 21.247559 57.984808))\"\n",
    "\n",
    "gulf_fin_check <- checklist(geometry = gulf_fin)\n",
    "\n",
    "head(gulf_fin_check)"
   ]
  },
  {
   "cell_type": "markdown",
   "metadata": {},
   "source": [
    "Again, you can make further filtering when calling the function. For example, only Clorophyta recorded between 2000 and 2010."
   ]
  },
  {
   "cell_type": "code",
   "execution_count": null,
   "metadata": {
    "vscode": {
     "languageId": "r"
    }
   },
   "outputs": [],
   "source": [
    "gulf_fin_chl_check <- checklist(geometry = gulf_fin,\n",
    "                                scientificname = \"Chlorophyta\",\n",
    "                                startdate = \"2000-01-01\",\n",
    "                                enddate = \"2010-12-01\")\n",
    "\n",
    "head(gulf_fin_chl_check)\n",
    "\n",
    "gulf_fin_chl_check |> \n",
    "    select(scientificName, records) |> \n",
    "    head(3)"
   ]
  },
  {
   "cell_type": "markdown",
   "metadata": {},
   "source": [
    "### 3. Extended measurements\n",
    "\n",
    "OBIS is much more than just occurrence records. There are >180 million measurements that you can also explore using the API. Measurements are made available through the **MeasurementsOrFacts** extension. We are currently seeking ways to improve the access and discoverability of this data. For now, we admit, it is a bit complicated to explore it.\n",
    "\n",
    "A good way is to first check which datasets in your area of interest and target group have the extension:"
   ]
  },
  {
   "cell_type": "code",
   "execution_count": null,
   "metadata": {
    "vscode": {
     "languageId": "r"
    }
   },
   "outputs": [],
   "source": [
    "gulf_fin_ds <- dataset(geometry = gulf_fin,\n",
    "                       scientificname = \"Chlorophyta\",\n",
    "                       hasextensions = \"MeasurementOrFact\")\n",
    "\n",
    "str(gulf_fin_ds$extensions)"
   ]
  },
  {
   "cell_type": "markdown",
   "metadata": {},
   "source": [
    "We see that all of them have the `measurementorfact` extension, and two have also the `dnaderived` extension.\n",
    "\n",
    "You can see it on OBIS:\n",
    "\n",
    "- With eMoF and occurrence: https://obis.org/dataset/057d7f8c-5286-4032-aaf9-5ce078833262\n",
    "- With eMoF and dnaderived: https://obis.org/dataset/066f002f-58d5-4687-bdb8-b39cdaef0c2b\n",
    "\n",
    "If you scroll down, you will see a section called _Measurement types_, where you can check which measurements are available.\n",
    "\n",
    "As an example, we will load the first dataset, which has interesting measurements of phytoplankton. To get the eMoF, we will now set `mof = TRUE` in the `occurrence` function. Because it is a long time series, we will just get recent data to save time."
   ]
  },
  {
   "cell_type": "code",
   "execution_count": null,
   "metadata": {
    "vscode": {
     "languageId": "r"
    }
   },
   "outputs": [],
   "source": [
    "kplank_ds <- occurrence(\n",
    "    datasetid = \"057d7f8c-5286-4032-aaf9-5ce078833262\",\n",
    "    mof = TRUE,\n",
    "    startdate = \"2020-01-01\"\n",
    ")\n",
    "\n",
    "nrow(kplank_ds)\n",
    "head(kplank_ds)"
   ]
  },
  {
   "cell_type": "markdown",
   "metadata": {},
   "source": [
    "This dataset now contains a column called `mof` which is made of lists."
   ]
  },
  {
   "cell_type": "code",
   "execution_count": null,
   "metadata": {
    "vscode": {
     "languageId": "r"
    }
   },
   "outputs": [],
   "source": [
    "str(kplank_ds$mof[1])"
   ]
  },
  {
   "cell_type": "markdown",
   "metadata": {},
   "source": [
    "The name of the columns follow the guidelines of the extended Measurements or Facts (eMoF) extension. You can learn more about it [in the OBIS manual.](https://manual.obis.org/format_emof.html) To use that data we need to \"unnest\" it, that is, convert to a `data.frame`. We will use the function `unnest_extension`"
   ]
  },
  {
   "cell_type": "code",
   "execution_count": null,
   "metadata": {
    "vscode": {
     "languageId": "r"
    }
   },
   "outputs": [],
   "source": [
    "# Note: this is quite memory intensive and may take some time to process\n",
    "kplank_ext <- unnest_extension(df = kplank_ds,\n",
    "                               extension = \"MeasurementOrFact\",\n",
    "                               fields = \"eventDate\")\n",
    "\n",
    "head(kplank_ext)\n",
    "\n",
    "table(kplank_ext$measurementType)"
   ]
  },
  {
   "cell_type": "markdown",
   "metadata": {},
   "source": [
    "Many measurements are available. We will check now only the \"Carbon biomass of phytoplankton per unit volume of the water body\"."
   ]
  },
  {
   "cell_type": "code",
   "execution_count": null,
   "metadata": {
    "vscode": {
     "languageId": "r"
    }
   },
   "outputs": [],
   "source": [
    "carbon_biomass <- kplank_ext |> \n",
    "    filter(measurementType == \"Carbon biomass of phytoplankton per unit volume of the water body\")\n",
    "\n",
    "head(carbon_biomass, 3)"
   ]
  },
  {
   "cell_type": "markdown",
   "metadata": {},
   "source": [
    "Let's say that we want to produce a simple map of carbon biomass to later compare with a satellite product or to a model output. First, we need to get the longitude and latitude from the occurrence records and merge it with this table. Then, we group by longitude, latitude and date to get the total carbon in that place and date."
   ]
  },
  {
   "cell_type": "code",
   "execution_count": null,
   "metadata": {
    "vscode": {
     "languageId": "r"
    }
   },
   "outputs": [],
   "source": [
    "carbon_biomass <- carbon_biomass |> \n",
    "    left_join(kplank_ds[,c(\"occurrenceID\", \"decimalLongitude\", \"decimalLatitude\")]) |> \n",
    "    mutate(eventDate = as.Date(eventDate)) |> \n",
    "    group_by(eventDate, decimalLongitude, decimalLatitude) |> \n",
    "    filter(!is.na(measurementValue)) |> \n",
    "    mutate(measurementValue = as.numeric(measurementValue)) |> \n",
    "    summarise(total_carbon = sum(measurementValue)) |> \n",
    "    ungroup() |> \n",
    "    group_by(decimalLongitude, decimalLatitude) |> \n",
    "    mutate(site_id = cur_group_id())\n",
    "\n",
    "head(carbon_biomass, 3)"
   ]
  },
  {
   "cell_type": "markdown",
   "metadata": {},
   "source": [
    "Let's plot to see."
   ]
  },
  {
   "cell_type": "code",
   "execution_count": null,
   "metadata": {
    "vscode": {
     "languageId": "r"
    }
   },
   "outputs": [],
   "source": [
    "library(ggplot2)\n",
    "library(sf)\n",
    "library(terra)\n",
    "sf_use_s2(FALSE)\n",
    "\n",
    "carbon_biomass_sf <- st_as_sf(carbon_biomass, \n",
    "                              coords = c(\"decimalLongitude\", \"decimalLatitude\"), \n",
    "                              crs = \"EPSG:4326\")\n",
    "wrld_cr <- st_crop(wrld, carbon_biomass_sf)\n",
    "\n",
    "ggplot() +\n",
    "    geom_sf(data = wrld_cr, fill = \"grey70\") +\n",
    "    geom_sf(data = carbon_biomass_sf, aes(size = total_carbon, color = total_carbon), alpha = .5) +\n",
    "    scale_color_viridis_c() +\n",
    "    coord_sf() + theme_light()\n"
   ]
  },
  {
   "cell_type": "markdown",
   "metadata": {},
   "source": [
    "We will use the data as an aggregate, ignoring the time component:"
   ]
  },
  {
   "cell_type": "code",
   "execution_count": null,
   "metadata": {
    "vscode": {
     "languageId": "r"
    }
   },
   "outputs": [],
   "source": [
    "carbon_gam <- mgcv::gam(total_carbon ~ s(decimalLongitude,\n",
    "                                         decimalLatitude, \n",
    "                                         bs = 'gp', k = 100,\n",
    "                                         m = 2),\n",
    "                        data = carbon_biomass)\n",
    "summary(carbon_gam)"
   ]
  },
  {
   "cell_type": "code",
   "execution_count": null,
   "metadata": {
    "vscode": {
     "languageId": "r"
    }
   },
   "outputs": [],
   "source": [
    "grid_pred <- rast(ext(wrld_cr), res = 0.1)\n",
    "grid_pred[] <- 1\n",
    "grid_pred_df <- as.data.frame(grid_pred, xy = T)[,1:2]\n",
    "colnames(grid_pred_df) <- c(\"decimalLongitude\", \"decimalLatitude\")\n",
    "\n",
    "pred_carbon <- predict(carbon_gam, grid_pred_df)\n",
    "\n",
    "grid_pred_df$carbon <- pred_carbon\n",
    "\n",
    "ggplot() +\n",
    "    geom_raster(data = grid_pred_df, aes(x = decimalLongitude, y = decimalLatitude, fill = carbon)) +\n",
    "    scale_fill_viridis_c() +\n",
    "    geom_sf(data = wrld_cr, fill = \"grey70\") +\n",
    "    geom_sf(data = carbon_biomass_sf, aes(size = total_carbon), color = \"white\", fill = NA, alpha = .1, shape = 1) +\n",
    "    coord_sf() + theme_light()"
   ]
  },
  {
   "cell_type": "markdown",
   "metadata": {},
   "source": [
    "### 4. Events and time series\n",
    "\n",
    "The dataset we have just used is a good example of a time series, coming from a long-term monitoring. Data in OBIS is usually organized in using Event Core (you can learn more [here](https://manual.obis.org/formatting.html#when-to-use-event-core)), as this is used to organize data when there are more than one sampling occasion and/or location, and different occurrences linked to each sampling (as most ecological studies). However, not all events form a time series! In many cases, you might have a single or few surveys. See for example the dataset below:"
   ]
  },
  {
   "cell_type": "code",
   "execution_count": null,
   "metadata": {
    "vscode": {
     "languageId": "r"
    }
   },
   "outputs": [],
   "source": [
    "poly_med <- occurrence(datasetid = \"727322b7-bdfd-4229-bb10-850ff97b5833\")\n",
    "\n",
    "head(poly_med, 2)\n",
    "\n",
    "table(poly_med$eventID, poly_med$eventDate)"
   ]
  },
  {
   "cell_type": "markdown",
   "metadata": {},
   "source": [
    "There are 2 events, all from the same date. In many cases you might be interested in finding time series. Here is an example of how you can do that:"
   ]
  },
  {
   "cell_type": "code",
   "execution_count": null,
   "metadata": {
    "vscode": {
     "languageId": "r"
    }
   },
   "outputs": [],
   "source": [
    "# Define an area of interest, in that case a small section of the Mediterranean\n",
    "wkt_area <- \"POLYGON ((10.107422 37.68382, 15.512695 37.68382, 15.512695 41.244772, 10.107422 41.244772, 10.107422 37.68382))\"\n",
    "\n",
    "occ_area <- occurrence(\n",
    "    geometry = wkt_area,\n",
    "    # We will focus on fishes\n",
    "    scientificname = \"Teleostei\",\n",
    "    startdate = \"2010-01-01\"\n",
    ")\n",
    "\n",
    "occ_area_ts <- occ_area |> \n",
    "    group_by(dataset_id, \n",
    "             date_year,\n",
    "             decimalLongitude = round(decimalLongitude, 3),\n",
    "             decimalLatitude = round(decimalLatitude, 3)) |> \n",
    "    distinct() |> \n",
    "    summarise(total = n()) |> \n",
    "    ungroup() |> \n",
    "    filter(total >= 3)\n",
    "\n",
    "nrow(occ_area_ts)\n",
    "\n",
    "unique_ds <- unique(occ_area_ts$dataset_id)\n",
    "length(unique_ds)\n",
    "\n",
    "ds_info <- dataset(datasetid = unique_ds[3])\n",
    "ds_info$title"
   ]
  },
  {
   "cell_type": "markdown",
   "metadata": {},
   "source": [
    "There are 4 datasets with at least 3 unique years, totalizing 29 sites (note that some may be repeated between the datasets). We can see that one of them is a standardized survey with abundance information:\n",
    "\n",
    "**Reef Check Med - key Mediterranean marine species 2001-2020:** https://obis.org/dataset/b52cf4cf-6222-4318-9e43-355026336e03"
   ]
  },
  {
   "cell_type": "code",
   "execution_count": null,
   "metadata": {
    "vscode": {
     "languageId": "r"
    }
   },
   "outputs": [],
   "source": [
    "med_ds <- occurrence(datasetid = \"b52cf4cf-6222-4318-9e43-355026336e03\", mof = T)\n",
    "\n",
    "med_ds_ext <- unnest_extension(med_ds, extension = \"MeasurementOrFact\",\n",
    "                               fields = \"eventDate\")\n",
    "\n",
    "med_ds_ext <- med_ds_ext |> \n",
    "    left_join(med_ds[,c(\"occurrenceID\", \"decimalLongitude\", \"decimalLatitude\")]) |> \n",
    "    mutate(eventDate = as.Date(eventDate)) |> \n",
    "    # We will \"grid\" it, just for this practical\n",
    "    group_by(decimalLongitude = round(decimalLongitude, 2),\n",
    "             decimalLatitude = round(decimalLatitude, 2)) |> \n",
    "    mutate(site_id = cur_group_id()) |> \n",
    "    filter(measurementType == \"Abundance category of biological entity specified elsewhere\")"
   ]
  },
  {
   "cell_type": "code",
   "execution_count": null,
   "metadata": {
    "vscode": {
     "languageId": "r"
    }
   },
   "outputs": [],
   "source": [
    "# Plot one site\n",
    "med_ds_ext_filt <- med_ds_ext |> \n",
    "    filter(site_id == 30) |> \n",
    "    group_by(eventDate, measurementValue) |> \n",
    "    count()\n",
    "\n",
    "ggplot(med_ds_ext_filt) +\n",
    "    geom_bar(aes(x = measurementValue, y = n, fill = measurementValue), stat = \"identity\") +\n",
    "    scale_fill_brewer(\"Blues\") +\n",
    "    facet_wrap(~eventDate, nrow = 3) + \n",
    "    ylab(\"Unique occurrences with this category\") + xlab(\"Date\") +\n",
    "    ggtitle(\"Abundance categories over time\") + theme_light() +\n",
    "    theme(panel.grid.major.x = element_blank(),\n",
    "          panel.grid.minor.y = element_blank())\n",
    "\n",
    "# • Category 0: 0 specimens (absent)\n",
    "# • Category 1: 1 specimen (isolated specimen)\n",
    "# • Category 2: 2 specimens (some scattered specimens)\n",
    "# • Category 3: 3–5 specimens (several scattered specimens)\n",
    "# • Category 4: 6–10 specimens (a crowded area)\n",
    "# • Category 5: 11–50 specimens (some crowded areas)\n",
    "# • Category 6: > 50 specimens (several crowded areas)"
   ]
  },
  {
   "cell_type": "markdown",
   "metadata": {},
   "source": [
    "A special case is that of tracking data. You can learn more about tracking data in OBIS in the Ocean Tracking Network [website](https://oceantrackingnetwork.org/). Those datasets contains multiple measurements for the same organism, each at a time point.\n",
    "\n",
    "Let's download one of those [datasets from OTN](https://obis.org/dataset/78bf6b7f-555c-4bf7-8d81-a766c5bc736e)."
   ]
  },
  {
   "cell_type": "code",
   "execution_count": null,
   "metadata": {
    "vscode": {
     "languageId": "r"
    }
   },
   "outputs": [],
   "source": [
    "otn_dataset <- occurrence(datasetid = \"78bf6b7f-555c-4bf7-8d81-a766c5bc736e\")\n",
    "\n",
    "otn_dataset |> \n",
    "    select(scientificName, organismID, organismName, eventDate) |> \n",
    "    slice_head(n = 5)"
   ]
  },
  {
   "cell_type": "markdown",
   "metadata": {},
   "source": [
    "As you can see, each organism has a unique ID and name that we can use to track all records pertaining to that animal."
   ]
  },
  {
   "cell_type": "code",
   "execution_count": null,
   "metadata": {
    "vscode": {
     "languageId": "r"
    }
   },
   "outputs": [],
   "source": [
    "# Get the number of records by organism\n",
    "ind_recs <- otn_dataset |> \n",
    "    group_by(organismID, eventDate, decimalLongitude, decimalLatitude) |> \n",
    "    distinct(.keep_all = T) |> \n",
    "    ungroup() |> group_by(organismID) |> \n",
    "    summarise(total = n()) |> \n",
    "    arrange(desc(total))\n",
    "\n",
    "# Select the one with more records\n",
    "blue_shark1 <- otn_dataset |> \n",
    "    filter(organismID == ind_recs$organismID[1])\n",
    "head(blue_shark1)\n",
    "\n",
    "# Arrange by date and plot\n",
    "blue_shark1 <- blue_shark1 |> \n",
    "    group_by(eventDate, decimalLongitude, decimalLatitude) |> \n",
    "    distinct() |> \n",
    "    ungroup() |> \n",
    "    mutate(eventDate = lubridate::as_date(eventDate)) |> \n",
    "    arrange(eventDate)\n",
    "\n",
    "plot(blue_shark1[,c(\"decimalLongitude\", \"decimalLatitude\")])\n"
   ]
  },
  {
   "cell_type": "code",
   "execution_count": null,
   "metadata": {
    "vscode": {
     "languageId": "r"
    }
   },
   "outputs": [],
   "source": [
    "\n",
    "# Create an animated plot of movement\n",
    "wrld <- rnaturalearth::ne_countries(returnclass = \"sf\")\n",
    "wrld <- sf::st_as_sfc(wrld[,1])\n",
    "lims_lon <- range(blue_shark1$decimalLongitude)\n",
    "lims_lat <- range(blue_shark1$decimalLatitude)\n",
    "lims_lon <- lims_lon + c(-0.1, 0.1)\n",
    "lims_lat <- lims_lat + c(-0.1, 0.1)\n",
    "coords <- c(\"decimalLongitude\", \"decimalLatitude\")\n",
    "\n",
    "png_path <- file.path(tempdir(), \"frame%03d.png\")\n",
    "png(png_path)\n",
    "for (i in seq_len(nrow(blue_shark1))) {\n",
    "    plot(wrld, xlim = lims_lon, ylim = lims_lat, col = \"grey70\", main = blue_shark1$eventDate[i])\n",
    "    points(blue_shark1[i,coords], col = \"#044c98\", pch = 20, cex = 2)\n",
    "    if (i == 2) {\n",
    "        points(blue_shark1[(i-1),coords], col = \"#044b9889\", pch = 20, cex = 2)\n",
    "    } else if (i == 3) {\n",
    "        points(blue_shark1[(i-1),coords], col = \"#044b9889\", pch = 20, cex = 2)\n",
    "        points(blue_shark1[(i-2),coords], col = \"#044b982f\", pch = 20, cex = 2)\n",
    "    } else if (i > 3) {\n",
    "        points(blue_shark1[(i-1),coords], col = \"#044b9889\", pch = 20, cex = 2)\n",
    "        points(blue_shark1[(i-2),coords], col = \"#044b982f\", pch = 20, cex = 2)\n",
    "        points(blue_shark1[(i-3),coords], col = \"#044b9812\", pch = 20, cex = 2)\n",
    "    }\n",
    "}\n",
    "dev.off()\n",
    "png_files <- sprintf(png_path, seq_len(nrow(blue_shark1)))\n",
    "gif_file <- tempfile(fileext = \".gif\")\n",
    "gifski::gifski(png_files, gif_file, delay = .1)\n",
    "unlink(png_files)\n",
    "utils::browseURL(gif_file)\n",
    "# Note: if the file don't open, add this line, run again, and then you will\n",
    "# see the GIF on your files explorer on the left side of Colab (refresh if needed) \n",
    "# Then, just download it to your computer.\n",
    "file.copy(gif_file, \"movement.gif\")"
   ]
  },
  {
   "cell_type": "markdown",
   "metadata": {},
   "source": [
    "#### To learn more\n",
    "\n",
    "- OBIS manual: https://manual.obis.org/\n",
    "- OBIS tutorials: https://resources.obis.org/tutorials/\n",
    "- OBIS Discourse: https://obis.discourse.group/"
   ]
  }
 ],
 "metadata": {
  "kernelspec": {
   "display_name": "R",
   "language": "R",
   "name": "ir"
  },
  "language_info": {
   "codemirror_mode": "r",
   "file_extension": ".r",
   "mimetype": "text/x-r-source",
   "name": "R",
   "pygments_lexer": "r",
   "version": "4.3.1"
  }
 },
 "nbformat": 4,
 "nbformat_minor": 2
}
