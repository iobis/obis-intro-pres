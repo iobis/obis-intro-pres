{
 "cells": [
  {
   "cell_type": "markdown",
   "metadata": {},
   "source": [
    "# Accessing OBIS data\n",
    "\n",
    "OBIS holds more than 136 million records, across >5,000 datasets, and with >181 million measurements. This huge amount of data is driving research across a diverse range of topics.\n",
    "\n",
    "Here we will explore how to access OBIS data through **R**, but all the operations can also be done through **Python**. Check the [`pyobis` module]() and the other notebooks in this repo. We will focus on getting the different types of data, rather than on its direct application/integration with remote sensing, although a few examples will be provided.\n",
    "\n",
    "----\n",
    "\n",
    "`robis` is the main gateway for OBIS data through R. You can learn more about `robis` in the [OBIS manual.](https://manual.obis.org/access.html#r-package)\n",
    "\n",
    "Hands-on outline:\n",
    "\n",
    "1. Downloading occurrence records \n",
    "2. Get species lists \n",
    "3. Events and time series\n",
    "4. Extended measurements\n",
    "\n",
    "In a second notebook, we will explore two other products:\n",
    "\n",
    "1. Full export \n",
    "2. Gridded product \n",
    "\n",
    "Before starting, we need to install a few packages on Google Colab (if you are using Binder, just skip this cell):"
   ]
  },
  {
   "cell_type": "code",
   "execution_count": null,
   "metadata": {
    "vscode": {
     "languageId": "r"
    }
   },
   "outputs": [],
   "source": [
    "# On your local computer you can use install.packages() for everything\n",
    "# Here we use the system interface to some, as the installation\n",
    "# with r2u is faster.\n",
    "system(\"apt-get install r-cran-sf r-cran-terra\") # Spatial packages\n",
    "system(\"apt-get install r-cran-robis\")           # OBIS API interface\n",
    "system(\"apt-get install r-cran-arrow\")           # To deal with full export\n",
    "system(\"apt-get install r-cran-DBI\")             # To deal with full export\n",
    "system(\"apt-get install r-cran-duckdb\")          # To deal with full export\n",
    "system(\"apt-get install r-cran-rnaturalearth\")   # For mapping\n",
    "system(\"apt-get install r-cran-h3jsr\")           # For indexing (H3 sytem)\n",
    "\n",
    "# Install additional from GitHub\n",
    "system(\"apt-get install r-cran-bspm\")\n",
    "bspm::enable()\n",
    "devtools::install_github(\"iobis/obistools\")\n",
    "devtools::install_github(\"ropensci/mregions2\")"
   ]
  },
  {
   "cell_type": "markdown",
   "metadata": {},
   "source": [
    "We also need to download some sample data."
   ]
  },
  {
   "cell_type": "code",
   "execution_count": null,
   "metadata": {
    "vscode": {
     "languageId": "r"
    }
   },
   "outputs": [],
   "source": [
    "# Install AWS CLI interface, to get speciesgrids\n",
    "system('curl \"https://awscli.amazonaws.com/awscli-exe-linux-x86_64.zip\" -o \"awscliv2.zip\"')\n",
    "system('unzip awscliv2.zip')\n",
    "system('sudo ./aws/install')\n",
    "system('rm awscliv2.zip')\n",
    "system('rm -r aws')\n",
    "\n",
    "# Download some data that we will be using in this practical\n",
    "#### Download species grids\n",
    "fs::dir_create(\"speciesgrids\")\n",
    "system(\"aws s3 cp --recursive s3://obis-products/speciesgrids/h3_7 speciesgrids --no-sign-request\")\n",
    "#### Download full export sample\n",
    "\n",
    "#### Download Copernicus data sample"
   ]
  },
  {
   "cell_type": "markdown",
   "metadata": {},
   "source": [
    "### 1. Downloading occurrence records\n",
    "\n",
    "To download records from OBIS we use the function `occurrence`. There are many arguments you can pass to download data for a specific species, taxonomic level or region.\n",
    "\n",
    "We will start by getting data for three taxonomic entities:\n",
    "\n",
    "<div style=\"display: flex; flex-direction: row; max-height: 200px; padding: 5px;\">\n",
    "<div>\n",
    "<p>Species: <i>Lytechinus variegatus</i></p><img src=\"https://upload.wikimedia.org/wikipedia/commons/f/f5/Lytechinus_variegatus.jpg\" height=200></img>\n",
    "</div>\n",
    "<div>\n",
    "<p>Genus: <i>Lytechinus</i></p><img src=\"https://upload.wikimedia.org/wikipedia/commons/f/f5/Lytechinus_semituberculatus_12770656.jpg\" height=200></img>\n",
    "</div>\n",
    "<div>\n",
    "<p>Family: Toxopneustidae</p><img src=\"https://upload.wikimedia.org/wikipedia/commons/5/51/Toxopneustes_pileolus_%28Sea_urchin%29.jpg\" height=200></img>\n",
    "</div>\n",
    "</div>"
   ]
  },
  {
   "cell_type": "code",
   "execution_count": null,
   "metadata": {
    "vscode": {
     "languageId": "r"
    }
   },
   "outputs": [],
   "source": [
    "library(robis)\n",
    "library(dplyr)\n",
    "\n",
    "lych_var <- occurrence(\"Lytechinus variegatus\")\n",
    "\n",
    "nrow(lych_var)\n",
    "head(lych_var)"
   ]
  },
  {
   "cell_type": "markdown",
   "metadata": {},
   "source": [
    "We can make a map of the records. For that, we can use a handy function from the `obistools` package."
   ]
  },
  {
   "cell_type": "code",
   "execution_count": null,
   "metadata": {
    "vscode": {
     "languageId": "r"
    }
   },
   "outputs": [],
   "source": [
    "library(obistools)\n",
    "\n",
    "plot_map(lych_var)"
   ]
  },
  {
   "cell_type": "markdown",
   "metadata": {},
   "source": [
    "OBIS is different in that it was created and is optimized for marine data. It matches its taxonomic names (the species identity) with the World Register of Marine Species (WoRMS). Each species (or any other taxonomic level) has a unique ID called **AphiaID**. You can see for example the entry for _Lytechinus variegatus_ [here.](https://www.marinespecies.org/aphia.php?p=taxdetails&id=367850)\n",
    "\n",
    "This is important because species names can change over time, in case a species is reclassified into another group or when we discover that one species can be in fact multiple species.\n",
    "\n",
    "The `occurrence` function also accepts taxonid. So, the same we did on the first cell, can be done with:"
   ]
  },
  {
   "cell_type": "code",
   "execution_count": null,
   "metadata": {
    "vscode": {
     "languageId": "r"
    }
   },
   "outputs": [],
   "source": [
    "# This is the same as\n",
    "# lych_var <- occurrence(\"Lytechinus variegatus\")\n",
    "lych_var <- occurrence(taxonid = 367850)"
   ]
  },
  {
   "cell_type": "markdown",
   "metadata": {},
   "source": [
    "Let's try the other taxonomic levels:"
   ]
  },
  {
   "cell_type": "code",
   "execution_count": null,
   "metadata": {
    "vscode": {
     "languageId": "r"
    }
   },
   "outputs": [],
   "source": [
    "lych_genus <- occurrence(\"Lytechinus\")\n",
    "\n",
    "nrow(lych_genus)\n",
    "table(lych_genus$scientificName)\n",
    "\n",
    "toxop_fam <- occurrence(\"Toxopneustidae\")\n",
    "\n",
    "nrow(toxop_fam)\n",
    "table(toxop_fam$scientificName)"
   ]
  },
  {
   "cell_type": "markdown",
   "metadata": {},
   "source": [
    "Records are organized in **datasets** that group data that was collected in a particular survey, study, monitoring, etc. We can get additional information about datasets using the `dataset` function (which can also be used to list all datasets for a specific `scientificName`)."
   ]
  },
  {
   "cell_type": "code",
   "execution_count": null,
   "metadata": {
    "vscode": {
     "languageId": "r"
    }
   },
   "outputs": [],
   "source": [
    "# Get the number of records by dataset\n",
    "lych_var_ds <- lych_var |> \n",
    "    group_by(dataset_id) |> \n",
    "    summarise(records = n())\n",
    "\n",
    "high_n <- lych_var_ds[order(lych_var_ds$records, decreasing = T), \"dataset_id\"]\n",
    "\n",
    "ds_info <- dataset(datasetid = high_n$dataset_id)\n",
    "\n",
    "head(ds_info[,1:5])"
   ]
  }
 ],
 "metadata": {
  "kernelspec": {
   "display_name": "R",
   "language": "R",
   "name": "ir"
  },
  "language_info": {
   "name": "R"
  }
 },
 "nbformat": 4,
 "nbformat_minor": 2
}
