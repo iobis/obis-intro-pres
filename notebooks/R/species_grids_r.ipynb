{
 "cells": [
  {
   "cell_type": "markdown",
   "metadata": {},
   "source": [
    "# `speciesgrids` product\n",
    "\n",
    "[speciesgrids](https://github.com/iobis/speciesgrids) is a Python package to build WoRMS aligned combined OBIS and GBIF species distribution datasets. The resulting dataset is available in a few resolutions on AWS S3. The dataset can be downloaded locally for best performance, or queried directly from the S3 bucket. For more details about downloading and using the dataset, see the [speciesgrids README](https://github.com/iobis/speciesgrids).\n",
    "\n",
    "The product aggregate all marine data from the two major databases, in a very fine grid using Uber's H3 system. H3 is an hierarchical grid system, and that enables both very fast queries and aggregations. To learn more about Uber's H3 system check [here.](https://h3geo.org/)\n",
    "\n",
    "<img src=\"https://h3geo.org/images/parent-child.png\" height=200></img>\n",
    "\n",
    "The dataset is served as a `parquet` file. [Parquet](https://parquet.apache.org/) is a column-based performant and light format developed by Apache. We can work with `parquet` files on R and Python using the `arrow` [package.](https://arrow.apache.org/docs/r/index.html). You can learn more about parquet in [this tutorial](https://resources.obis.org/tutorials/arrow-obis/)."
   ]
  },
  {
   "cell_type": "code",
   "execution_count": null,
   "metadata": {
    "vscode": {
     "languageId": "r"
    }
   },
   "outputs": [],
   "source": [
    "library(arrow)\n",
    "library(dplyr)\n",
    "library(ggplot2)\n",
    "\n",
    "ds_path <- \"s3://obis-products/speciesgrids/h3_7\"\n",
    "\n",
    "ds <- open_dataset(ds_path)\n",
    "\n",
    "ds"
   ]
  },
  {
   "cell_type": "markdown",
   "metadata": {},
   "source": [
    "Let's get all records for the genus **Amphiprion**."
   ]
  },
  {
   "cell_type": "code",
   "execution_count": null,
   "metadata": {
    "vscode": {
     "languageId": "r"
    }
   },
   "outputs": [],
   "source": [
    "amph_records <- ds |> \n",
    "    filter(genus == \"Amphiprion\") |> \n",
    "    collect()\n",
    "\n",
    "nrow(amph_records)\n",
    "\n",
    "head(amph_records[,c(\"species\", \"genus\", \"cell\", \"records\")])"
   ]
  },
  {
   "cell_type": "markdown",
   "metadata": {},
   "source": [
    "We can aggregate the data by H3 cell, to now for example the total number of species by cell."
   ]
  },
  {
   "cell_type": "code",
   "execution_count": null,
   "metadata": {
    "vscode": {
     "languageId": "r"
    }
   },
   "outputs": [],
   "source": [
    "amph_total_cell <- amph_records |> \n",
    "    group_by(cell) |> \n",
    "    count()\n",
    "\n",
    "head(amph_total_cell)"
   ]
  },
  {
   "cell_type": "markdown",
   "metadata": {},
   "source": [
    "Because H3 system is hierarchical, we can actually aggregate it to coarser cells."
   ]
  },
  {
   "cell_type": "code",
   "execution_count": null,
   "metadata": {
    "vscode": {
     "languageId": "r"
    }
   },
   "outputs": [],
   "source": [
    "amph_h3_4 <- amph_records |> \n",
    "    mutate(h3_4 = h3jsr::get_parent(cell, res = 4))\n",
    "head(amph_h3_4)"
   ]
  },
  {
   "cell_type": "markdown",
   "metadata": {},
   "source": [
    "And calculate and plot the number of records, for example."
   ]
  },
  {
   "cell_type": "code",
   "execution_count": null,
   "metadata": {
    "vscode": {
     "languageId": "r"
    }
   },
   "outputs": [],
   "source": [
    "amph_h3_4_agg <- amph_h3_4 |> \n",
    "    group_by(h3_4) |> \n",
    "    summarise(total_records = sum(records))\n",
    "\n",
    "amph_h3_4_agg_sf <- h3jsr::cell_to_polygon(amph_h3_4_agg$h3_4, simple = FALSE)\n",
    "\n",
    "print(amph_h3_4_agg_sf)\n",
    "\n",
    "colnames(amph_h3_4_agg)[1] <- \"h3_address\"\n",
    "\n",
    "amph_h3_4_agg <- left_join(amph_h3_4_agg_sf, amph_h3_4_agg)\n",
    "\n",
    "wrld <- rnaturalearth::ne_countries(returnclass = \"sf\")\n",
    "\n",
    "ggplot() +\n",
    "    geom_sf(data = wrld) +\n",
    "    geom_sf(data = amph_h3_4_agg, aes(fill = total_records)) +\n",
    "    theme_light() +\n",
    "    coord_sf(xlim = c(150, 170), ylim = c(-40, -30))\n"
   ]
  }
 ],
 "metadata": {
  "kernelspec": {
   "display_name": "R",
   "language": "R",
   "name": "ir"
  },
  "language_info": {
   "codemirror_mode": "r",
   "file_extension": ".r",
   "mimetype": "text/x-r-source",
   "name": "R",
   "pygments_lexer": "r",
   "version": "4.3.1"
  }
 },
 "nbformat": 4,
 "nbformat_minor": 2
}
