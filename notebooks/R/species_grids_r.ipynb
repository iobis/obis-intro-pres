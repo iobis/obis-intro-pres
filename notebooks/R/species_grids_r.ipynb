{
 "cells": [
  {
   "cell_type": "markdown",
   "metadata": {},
   "source": [
    "# `speciesgrids` product\n",
    "\n",
    "[speciesgrids](https://github.com/iobis/speciesgrids) is a Python package to build WoRMS aligned combined OBIS and GBIF species distribution datasets. The resulting dataset is available in a few resolutions on AWS S3. The dataset can be downloaded locally for best performance, or queried directly from the S3 bucket. For more details about downloading and using the dataset, see the [speciesgrids README](https://github.com/iobis/speciesgrids).\n",
    "\n",
    "The product aggregate all marine data from the two major databases, in a very fine grid using Uber's H3 system. H3 is an hierarchical grid system, and that enables both very fast queries and aggregations. To learn more about Uber's H3 system check [here.](https://h3geo.org/)\n",
    "\n",
    "<img src=\"https://h3geo.org/images/parent-child.png\" height=200></img>\n",
    "\n",
    "The dataset is served as a `parquet` file. [Parquet](https://parquet.apache.org/) is a column-based performant and light format developed by Apache. We can work with `parquet` files on R and Python using the `arrow` [package.](https://arrow.apache.org/docs/r/index.html). You can learn more about parquet in [this tutorial](https://resources.obis.org/tutorials/arrow-obis/)."
   ]
  },
  {
   "cell_type": "code",
   "execution_count": null,
   "metadata": {
    "vscode": {
     "languageId": "r"
    }
   },
   "outputs": [],
   "source": [
    "library(arrow)\n",
    "library(dplyr)\n",
    "library(ggplot2)\n",
    "\n",
    "ds_path <- \"s3://obis-products/speciesgrids/h3_7\"\n",
    "\n",
    "ds <- open_dataset(ds_path)\n",
    "\n",
    "ds"
   ]
  },
  {
   "cell_type": "markdown",
   "metadata": {},
   "source": [
    "Let's get all records for the genus **Amphiprion**."
   ]
  },
  {
   "cell_type": "code",
   "execution_count": null,
   "metadata": {
    "vscode": {
     "languageId": "r"
    }
   },
   "outputs": [],
   "source": [
    "amph_records <- ds |> \n",
    "    filter(genus == \"Amphiprion\") |> \n",
    "    collect()\n",
    "\n",
    "nrow(amph_records)\n",
    "\n",
    "head(amph_records[,c(\"species\", \"genus\", \"cell\", \"records\")])"
   ]
  },
  {
   "cell_type": "markdown",
   "metadata": {},
   "source": [
    "We can aggregate the data by H3 cell, to now for example the total number of species by cell."
   ]
  },
  {
   "cell_type": "code",
   "execution_count": null,
   "metadata": {
    "vscode": {
     "languageId": "r"
    }
   },
   "outputs": [],
   "source": [
    "amph_total_cell <- amph_records |> \n",
    "    group_by(cell) |> \n",
    "    count()\n",
    "\n",
    "head(amph_total_cell)"
   ]
  },
  {
   "cell_type": "markdown",
   "metadata": {},
   "source": [
    "Because H3 system is hierarchical, we can actually aggregate it to coarser cells."
   ]
  },
  {
   "cell_type": "code",
   "execution_count": null,
   "metadata": {
    "vscode": {
     "languageId": "r"
    }
   },
   "outputs": [],
   "source": [
    "amph_h3_4 <- amph_records |> \n",
    "    mutate(h3_4 = h3jsr::get_parent(cell, res = 4))\n",
    "head(amph_h3_4)"
   ]
  },
  {
   "cell_type": "markdown",
   "metadata": {},
   "source": [
    "And calculate and plot the number of records, for example."
   ]
  },
  {
   "cell_type": "code",
   "execution_count": null,
   "metadata": {
    "vscode": {
     "languageId": "r"
    }
   },
   "outputs": [],
   "source": [
    "amph_h3_4_agg <- amph_h3_4 |> \n",
    "    group_by(h3_4) |> \n",
    "    summarise(total_records = sum(records))\n",
    "\n",
    "amph_h3_4_agg_sf <- h3jsr::cell_to_polygon(amph_h3_4_agg$h3_4, simple = FALSE)\n",
    "\n",
    "print(amph_h3_4_agg_sf)\n",
    "\n",
    "colnames(amph_h3_4_agg)[1] <- \"h3_address\"\n",
    "\n",
    "amph_h3_4_agg <- left_join(amph_h3_4_agg_sf, amph_h3_4_agg)\n",
    "\n",
    "wrld <- rnaturalearth::ne_countries(returnclass = \"sf\")\n",
    "\n",
    "ggplot() +\n",
    "    geom_sf(data = wrld) +\n",
    "    geom_sf(data = amph_h3_4_agg, aes(fill = total_records)) +\n",
    "    theme_light() +\n",
    "    coord_sf(xlim = c(150, 170), ylim = c(-40, -30))\n"
   ]
  },
  {
   "cell_type": "code",
   "execution_count": null,
   "metadata": {
    "vscode": {
     "languageId": "r"
    }
   },
   "outputs": [],
   "source": [
    "library(robis)\n",
    "library(dplyr)\n",
    "library(ggplot2)\n",
    "\n",
    "otn_dataset <- occurrence(datasetid = \"78bf6b7f-555c-4bf7-8d81-a766c5bc736e\")\n",
    "\n",
    "otn_dataset |> \n",
    "    select(scientificName, organismID, organismName, eventDate) |> \n",
    "    slice_head(n = 5)\n",
    "\n",
    "# Get the number of records by organism\n",
    "ind_recs <- otn_dataset |> \n",
    "    group_by(organismID, eventDate, decimalLongitude, decimalLatitude) |> \n",
    "    distinct(.keep_all = T) |> \n",
    "    ungroup() |> group_by(organismID) |> \n",
    "    summarise(total = n()) |> \n",
    "    arrange(desc(total))\n",
    "\n",
    "# Select the one with more records\n",
    "blue_shark1 <- otn_dataset |> \n",
    "    filter(organismID == ind_recs$organismID[1])\n",
    "head(blue_shark1)\n",
    "\n",
    "# Arrange by date and plot\n",
    "blue_shark1 <- blue_shark1 |> \n",
    "    group_by(eventDate, decimalLongitude, decimalLatitude) |> \n",
    "    distinct() |> \n",
    "    ungroup() |> \n",
    "    mutate(eventDate = lubridate::as_date(eventDate)) |> \n",
    "    arrange(eventDate)\n",
    "\n",
    "plot(blue_shark1[,c(\"decimalLongitude\", \"decimalLatitude\")])\n",
    "\n",
    "# Create an animated plot of movement\n",
    "wrld <- rnaturalearth::ne_countries(returnclass = \"sf\")\n",
    "wrld <- sf::st_as_sfc(wrld[,1])\n",
    "lims_lon <- range(blue_shark1$decimalLongitude)\n",
    "lims_lat <- range(blue_shark1$decimalLatitude)\n",
    "lims_lon <- lims_lon + c(-0.1, 0.1)\n",
    "lims_lat <- lims_lat + c(-0.1, 0.1)\n",
    "coords <- c(\"decimalLongitude\", \"decimalLatitude\")\n",
    "\n",
    "png_path <- file.path(tempdir(), \"frame%03d.png\")\n",
    "png(png_path)\n",
    "for (i in seq_len(nrow(blue_shark1))) {\n",
    "    plot(wrld, xlim = lims_lon, ylim = lims_lat, col = \"grey70\", main = blue_shark1$eventDate[i])\n",
    "    points(blue_shark1[i,coords], col = \"#044c98\", pch = 20, cex = 2)\n",
    "    if (i == 2) {\n",
    "        points(blue_shark1[(i-1),coords], col = \"#044b9889\", pch = 20, cex = 2)\n",
    "    } else if (i == 3) {\n",
    "        points(blue_shark1[(i-1),coords], col = \"#044b9889\", pch = 20, cex = 2)\n",
    "        points(blue_shark1[(i-2),coords], col = \"#044b982f\", pch = 20, cex = 2)\n",
    "    } else if (i > 3) {\n",
    "        points(blue_shark1[(i-1),coords], col = \"#044b9889\", pch = 20, cex = 2)\n",
    "        points(blue_shark1[(i-2),coords], col = \"#044b982f\", pch = 20, cex = 2)\n",
    "        points(blue_shark1[(i-3),coords], col = \"#044b9812\", pch = 20, cex = 2)\n",
    "    }\n",
    "}\n",
    "dev.off()\n",
    "png_files <- sprintf(png_path, seq_len(nrow(blue_shark1)))\n",
    "gif_file <- tempfile(fileext = \".gif\")\n",
    "gifski::gifski(png_files, gif_file, delay = .1)\n",
    "unlink(png_files)\n",
    "utils::browseURL(gif_file)"
   ]
  }
 ],
 "metadata": {
  "kernelspec": {
   "display_name": "R",
   "language": "R",
   "name": "ir"
  },
  "language_info": {
   "codemirror_mode": "r",
   "file_extension": ".r",
   "mimetype": "text/x-r-source",
   "name": "R",
   "pygments_lexer": "r",
   "version": "4.3.1"
  }
 },
 "nbformat": 4,
 "nbformat_minor": 2
}
