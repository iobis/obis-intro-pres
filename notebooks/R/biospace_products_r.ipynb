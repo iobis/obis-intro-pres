{
 "cells": [
  {
   "cell_type": "markdown",
   "metadata": {},
   "source": [
    "# OBIS full export and gridded product\n",
    "\n",
    "OBIS also produces a full export, containing all occurrence data from OBIS packed in a single Parquet file, and a gridded product (`speciesgrids`) for very efficient queries. We will learn more about each of those in this notebook.\n",
    "\n",
    "Here we will use **R**, but all the operations can also be done through **Python**. For the `speciesgrids`, some examples with Python are available in this [repo](https://github.com/iobis/speciesgrids/tree/main/notebooks).\n",
    "\n",
    "----\n",
    "\n",
    "Hands-on outline:\n",
    "\n",
    "1. A brief introduction to Parquet \n",
    "2. Full export \n",
    "3. Gridded product \n",
    "\n",
    "Before starting, we need to install a few packages on Google Colab (if you are using Binder, just skip this cell). Also, if you are coming from the previous notebook and already installed the packages, you don't need to do it again."
   ]
  },
  {
   "cell_type": "code",
   "execution_count": null,
   "metadata": {
    "vscode": {
     "languageId": "r"
    }
   },
   "outputs": [],
   "source": [
    "# On your local computer you can use install.packages() for everything\n",
    "# Here we use the system interface to some, as the installation\n",
    "# with r2u is faster.\n",
    "system(\"apt-get install r-cran-sf r-cran-terra\") # Spatial packages\n",
    "system(\"apt-get install r-cran-robis\")           # OBIS API interface\n",
    "system(\"apt-get install r-cran-arrow\")           # To deal with full export\n",
    "system(\"apt-get install r-cran-DBI\")             # To deal with full export\n",
    "system(\"apt-get install r-cran-duckdb\")          # To deal with full export\n",
    "system(\"apt-get install r-cran-rnaturalearth\")   # For mapping\n",
    "system(\"apt-get install r-cran-h3jsr\")           # For indexing (H3 sytem)\n",
    "\n",
    "# Install additional from GitHub\n",
    "system(\"apt-get install r-cran-bspm\")\n",
    "bspm::enable()\n",
    "devtools::install_github(\"iobis/obistools\")\n",
    "devtools::install_github(\"ropensci/mregions2\")"
   ]
  },
  {
   "cell_type": "markdown",
   "metadata": {},
   "source": [
    "We also need to download some sample data."
   ]
  },
  {
   "cell_type": "code",
   "execution_count": null,
   "metadata": {
    "vscode": {
     "languageId": "r"
    }
   },
   "outputs": [],
   "source": [
    "# Install AWS CLI interface, to get speciesgrids\n",
    "system('curl \"https://awscli.amazonaws.com/awscli-exe-linux-x86_64.zip\" -o \"awscliv2.zip\"')\n",
    "system('unzip awscliv2.zip')\n",
    "system('sudo ./aws/install')\n",
    "system('rm awscliv2.zip')\n",
    "system('rm -r aws')\n",
    "\n",
    "# Download some data that we will be using in this practical\n",
    "#### Download species grids\n",
    "fs::dir_create(\"speciesgrids\")\n",
    "system(\"aws s3 cp --recursive s3://obis-products/speciesgrids/h3_7 speciesgrids --no-sign-request\")\n",
    "#### Download full export sample\n",
    "\n",
    "#### Download Copernicus data sample"
   ]
  },
  {
   "cell_type": "markdown",
   "metadata": {},
   "source": [
    "### 1. A brief introduction to Parquet"
   ]
  },
  {
   "cell_type": "markdown",
   "metadata": {},
   "source": [
    "### 2. Full export\n",
    "\n",
    "Here"
   ]
  },
  {
   "cell_type": "markdown",
   "metadata": {},
   "source": [
    "### 3. `speciesgrids` product"
   ]
  },
  {
   "cell_type": "markdown",
   "metadata": {},
   "source": []
  }
 ],
 "metadata": {
  "kernelspec": {
   "display_name": "R",
   "language": "R",
   "name": "ir"
  },
  "language_info": {
   "name": "R"
  }
 },
 "nbformat": 4,
 "nbformat_minor": 2
}
