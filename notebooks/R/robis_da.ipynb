{
 "cells": [
  {
   "cell_type": "markdown",
   "metadata": {},
   "source": [
    "# Accessing OBIS through R: `robis` package\n",
    "\n",
    "`robis` is the main gateway for OBIS data through R. You can learn more about `robis` in the [OBIS manual.]()\n",
    "\n",
    "Hands-on outline:\n",
    "\n",
    "1. Downloading occurrence records\n",
    "2. Getting additional information about datasets\n",
    "3. Download records for a particular region\n",
    "4. Get species lists\n",
    "5. Filtering data\n",
    "6. Obtaining time series\n",
    "7. Getting extended measurements\n",
    "\n",
    "Before starting, we need to install a few packages on Google Colab:"
   ]
  },
  {
   "cell_type": "code",
   "execution_count": null,
   "metadata": {
    "vscode": {
     "languageId": "r"
    }
   },
   "outputs": [],
   "source": [
    "install.packages(\"bspm\")\n",
    "suppressMessages(bspm::enable())\n",
    "install.packages(\"robis\")\n",
    "devtools::install_github(\"iobis/obistools\")"
   ]
  },
  {
   "cell_type": "markdown",
   "metadata": {},
   "source": [
    "### 1. Downloading occurrence records\n",
    "\n",
    "To download records from OBIS we use the function `occurrence`. There are many arguments you can pass to download data for a specific species, taxonomic level or region.\n",
    "\n",
    "We will start by getting data for three taxonomic entities:\n",
    "\n",
    "<div style=\"display: flex; flex-direction: row; max-height: 200px; padding: 5px;\">\n",
    "<div>\n",
    "<p>Species: <i>Lytechinus variegatus</i></p><img src=\"https://upload.wikimedia.org/wikipedia/commons/f/f5/Lytechinus_variegatus.jpg\" height=200></img>\n",
    "</div>\n",
    "<div>\n",
    "<p>Genus: <i>Lytechinus</i></p><img src=\"https://upload.wikimedia.org/wikipedia/commons/f/f5/Lytechinus_semituberculatus_12770656.jpg\" height=200></img>\n",
    "</div>\n",
    "<div>\n",
    "<p>Family: Toxopneustidae</p><img src=\"https://upload.wikimedia.org/wikipedia/commons/5/51/Toxopneustes_pileolus_%28Sea_urchin%29.jpg\" height=200></img>\n",
    "</div>\n",
    "</div>"
   ]
  },
  {
   "cell_type": "code",
   "execution_count": null,
   "metadata": {
    "vscode": {
     "languageId": "r"
    }
   },
   "outputs": [],
   "source": [
    "library(robis)\n",
    "library(dplyr)\n",
    "\n",
    "lych_var <- occurrence(\"Lytechinus variegatus\")\n",
    "\n",
    "nrow(lych_var)\n",
    "head(lych_var)"
   ]
  },
  {
   "cell_type": "markdown",
   "metadata": {},
   "source": [
    "We can make a map of the records. For that, we can use a handy function from the `obistools` package."
   ]
  },
  {
   "cell_type": "code",
   "execution_count": null,
   "metadata": {
    "vscode": {
     "languageId": "r"
    }
   },
   "outputs": [],
   "source": [
    "library(obistools)\n",
    "\n",
    "plot_map(lych_var)"
   ]
  },
  {
   "cell_type": "markdown",
   "metadata": {},
   "source": [
    "OBIS is different in that it was created and is optimized for marine data. It matches its taxonomic names (the species identity) with the World Register of Marine Species (WoRMS). Elych species (or any other taxonomic level) has a unique ID called **AphiaID**. You can see for example the entry for _Acanthurus varurgus_ [here.](https://www.marinespecies.org/aphia.php?p=taxdetails&id=159580)\n",
    "\n",
    "This is important because species names can change over time, in case a species is reclassified into another group or when we discover that one species can be in fact multiple species.\n",
    "\n",
    "The `occurrence` function also accepts taxonid. So, the same we did on the first cell, can be done with:"
   ]
  },
  {
   "cell_type": "code",
   "execution_count": null,
   "metadata": {
    "vscode": {
     "languageId": "r"
    }
   },
   "outputs": [],
   "source": [
    "# This is the same as\n",
    "# lych_var <- occurrence(\"Lytechinus variegatus\")\n",
    "lych_var <- occurrence(taxonid = 367850)"
   ]
  },
  {
   "cell_type": "markdown",
   "metadata": {},
   "source": [
    "Let's try the other taxonomic levels:"
   ]
  },
  {
   "cell_type": "code",
   "execution_count": null,
   "metadata": {
    "vscode": {
     "languageId": "r"
    }
   },
   "outputs": [],
   "source": [
    "lych_genus <- occurrence(\"Lytechinus\")\n",
    "\n",
    "nrow(lych_genus)\n",
    "table(lych_genus$scientificName)\n",
    "\n",
    "toxop_fam <- occurrence(\"Toxopneustidae\")\n",
    "\n",
    "nrow(toxop_fam)\n",
    "table(toxop_fam$scientificName)"
   ]
  },
  {
   "cell_type": "markdown",
   "metadata": {},
   "source": [
    "### 2. Getting dataset information\n",
    "\n",
    "Records are organized in **datasets** that group data that was collected in a particular survey, study, monitoring, etc. We can get additional information about datasets using the `dataset` function (which can also be used to list all datasets for a specific `scientificName`)."
   ]
  },
  {
   "cell_type": "code",
   "execution_count": null,
   "metadata": {
    "vscode": {
     "languageId": "r"
    }
   },
   "outputs": [],
   "source": [
    "# Get the number of records by dataset\n",
    "lych_var_ds <- lych_var |> \n",
    "    group_by(dataset_id) |> \n",
    "    summarise(records = n())\n",
    "\n",
    "high_n <- lych_var_ds[order(lych_var_ds$records, descending = T), \"dataset_id\"]\n",
    "\n",
    "ds_info <- dataset(datasetid = high_n)\n",
    "\n",
    "ds_info"
   ]
  },
  {
   "cell_type": "markdown",
   "metadata": {},
   "source": [
    "### 3. Downloading records for a region\n",
    "\n"
   ]
  },
  {
   "cell_type": "markdown",
   "metadata": {},
   "source": [
    "### 4. Get list of species (checklist)"
   ]
  },
  {
   "cell_type": "markdown",
   "metadata": {},
   "source": [
    "### 5. Filtering data"
   ]
  },
  {
   "cell_type": "markdown",
   "metadata": {},
   "source": [
    "### 6. Time-series"
   ]
  },
  {
   "cell_type": "markdown",
   "metadata": {},
   "source": [
    "### 7. Extended measurements"
   ]
  }
 ],
 "metadata": {
  "kernelspec": {
   "display_name": "R",
   "language": "R",
   "name": "ir"
  },
  "language_info": {
   "codemirror_mode": "r",
   "file_extension": ".r",
   "mimetype": "text/x-r-source",
   "name": "R",
   "pygments_lexer": "r",
   "version": "4.3.1"
  }
 },
 "nbformat": 4,
 "nbformat_minor": 2
}
