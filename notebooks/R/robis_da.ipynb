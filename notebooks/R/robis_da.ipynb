{
 "cells": [
  {
   "cell_type": "markdown",
   "metadata": {},
   "source": [
    "# Accessing OBIS through R: `robis` package\n",
    "\n",
    "`robis` is the main gateway for OBIS data through R. You can learn more about `robis` in the [OBIS manual.](https://manual.obis.org/access.html#r-package)\n",
    "\n",
    "Hands-on outline:\n",
    "\n",
    "1. Downloading occurrence records\n",
    "2. Getting additional information about datasets\n",
    "3. Download records for a particular region\n",
    "4. Get species lists\n",
    "5. Filtering data\n",
    "6. Obtaining time series\n",
    "7. Getting extended measurements\n",
    "\n",
    "Before starting, we need to install a few packages on Google Colab:"
   ]
  },
  {
   "cell_type": "code",
   "execution_count": null,
   "metadata": {
    "vscode": {
     "languageId": "r"
    }
   },
   "outputs": [],
   "source": [
    "# It will take approximately 5 minutes, but then you don't need to install\n",
    "# again to use with the other R notebooks, while the session is alive.\n",
    "install.packages(\"bspm\")\n",
    "suppressMessages(bspm::enable())\n",
    "install.packages(\"robis\")\n",
    "install.packages(\"arrow\")\n",
    "install.packages(\"rnaturalearth\")\n",
    "install.packages(\"DBI\")\n",
    "install.packages(\"duckdb\")\n",
    "install.packages(\"h3jsr\")\n",
    "install.packages(\"sf\")\n",
    "install.packages(\"gifski\")\n",
    "devtools::install_github(\"iobis/obistools\")\n",
    "devtools::install_github(\"ropensci/mregions2\")"
   ]
  },
  {
   "cell_type": "markdown",
   "metadata": {},
   "source": [
    "### 1. Downloading occurrence records\n",
    "\n",
    "To download records from OBIS we use the function `occurrence`. There are many arguments you can pass to download data for a specific species, taxonomic level or region.\n",
    "\n",
    "We will start by getting data for three taxonomic entities:\n",
    "\n",
    "<div style=\"display: flex; flex-direction: row; max-height: 200px; padding: 5px;\">\n",
    "<div>\n",
    "<p>Species: <i>Lytechinus variegatus</i></p><img src=\"https://upload.wikimedia.org/wikipedia/commons/f/f5/Lytechinus_variegatus.jpg\" height=200></img>\n",
    "</div>\n",
    "<div>\n",
    "<p>Genus: <i>Lytechinus</i></p><img src=\"https://upload.wikimedia.org/wikipedia/commons/f/f5/Lytechinus_semituberculatus_12770656.jpg\" height=200></img>\n",
    "</div>\n",
    "<div>\n",
    "<p>Family: Toxopneustidae</p><img src=\"https://upload.wikimedia.org/wikipedia/commons/5/51/Toxopneustes_pileolus_%28Sea_urchin%29.jpg\" height=200></img>\n",
    "</div>\n",
    "</div>"
   ]
  },
  {
   "cell_type": "code",
   "execution_count": null,
   "metadata": {
    "vscode": {
     "languageId": "r"
    }
   },
   "outputs": [],
   "source": [
    "library(robis)\n",
    "library(dplyr)\n",
    "\n",
    "lych_var <- occurrence(\"Lytechinus variegatus\")\n",
    "\n",
    "nrow(lych_var)\n",
    "head(lych_var)"
   ]
  },
  {
   "cell_type": "markdown",
   "metadata": {},
   "source": [
    "We can make a map of the records. For that, we can use a handy function from the `obistools` package."
   ]
  },
  {
   "cell_type": "code",
   "execution_count": null,
   "metadata": {
    "vscode": {
     "languageId": "r"
    }
   },
   "outputs": [],
   "source": [
    "library(obistools)\n",
    "\n",
    "plot_map(lych_var)"
   ]
  },
  {
   "cell_type": "markdown",
   "metadata": {},
   "source": [
    "OBIS is different in that it was created and is optimized for marine data. It matches its taxonomic names (the species identity) with the World Register of Marine Species (WoRMS). Each species (or any other taxonomic level) has a unique ID called **AphiaID**. You can see for example the entry for _Lytechinus variegatus_ [here.](https://www.marinespecies.org/aphia.php?p=taxdetails&id=367850)\n",
    "\n",
    "This is important because species names can change over time, in case a species is reclassified into another group or when we discover that one species can be in fact multiple species.\n",
    "\n",
    "The `occurrence` function also accepts taxonid. So, the same we did on the first cell, can be done with:"
   ]
  },
  {
   "cell_type": "code",
   "execution_count": null,
   "metadata": {
    "vscode": {
     "languageId": "r"
    }
   },
   "outputs": [],
   "source": [
    "# This is the same as\n",
    "# lych_var <- occurrence(\"Lytechinus variegatus\")\n",
    "lych_var <- occurrence(taxonid = 367850)"
   ]
  },
  {
   "cell_type": "markdown",
   "metadata": {},
   "source": [
    "Let's try the other taxonomic levels:"
   ]
  },
  {
   "cell_type": "code",
   "execution_count": null,
   "metadata": {
    "vscode": {
     "languageId": "r"
    }
   },
   "outputs": [],
   "source": [
    "lych_genus <- occurrence(\"Lytechinus\")\n",
    "\n",
    "nrow(lych_genus)\n",
    "table(lych_genus$scientificName)\n",
    "\n",
    "toxop_fam <- occurrence(\"Toxopneustidae\")\n",
    "\n",
    "nrow(toxop_fam)\n",
    "table(toxop_fam$scientificName)"
   ]
  },
  {
   "cell_type": "markdown",
   "metadata": {},
   "source": [
    "### 2. Getting dataset information\n",
    "\n",
    "Records are organized in **datasets** that group data that was collected in a particular survey, study, monitoring, etc. We can get additional information about datasets using the `dataset` function (which can also be used to list all datasets for a specific `scientificName`)."
   ]
  },
  {
   "cell_type": "code",
   "execution_count": null,
   "metadata": {
    "vscode": {
     "languageId": "r"
    }
   },
   "outputs": [],
   "source": [
    "# Get the number of records by dataset\n",
    "lych_var_ds <- lych_var |> \n",
    "    group_by(dataset_id) |> \n",
    "    summarise(records = n())\n",
    "\n",
    "high_n <- lych_var_ds[order(lych_var_ds$records, decreasing = T), \"dataset_id\"][1,]\n",
    "\n",
    "ds_info <- dataset(datasetid = high_n$dataset_id)\n",
    "\n",
    "head(ds_info[,1:5])"
   ]
  },
  {
   "cell_type": "markdown",
   "metadata": {},
   "source": [
    "### 3. Downloading records for a region\n",
    "\n",
    "There are two ways to download data for a specific region. The first is to use the OBIS regions. You can explore it using the mapper, for example this one: https://mapper.obis.org/?areaid=27\n",
    "\n",
    "This is the region of Trindade archipelago, in Brazil.\n",
    "\n",
    "<img src=\"https://upload.wikimedia.org/wikipedia/commons/c/c2/Simone_Marinho_-_Trindade_-_2010_05_08_edited.jpg\" height=200></img>"
   ]
  },
  {
   "cell_type": "code",
   "execution_count": null,
   "metadata": {
    "vscode": {
     "languageId": "r"
    }
   },
   "outputs": [],
   "source": [
    "trindade <- occurrence(areaid = 27)"
   ]
  },
  {
   "cell_type": "markdown",
   "metadata": {},
   "source": [
    "Another approach is to pass a geometry in Well-known Text (WKT). You can draw polygons in this website: https://wktmap.com/"
   ]
  },
  {
   "cell_type": "code",
   "execution_count": null,
   "metadata": {
    "vscode": {
     "languageId": "r"
    }
   },
   "outputs": [],
   "source": [
    "wkt_area <- \"POLYGON ((-79.189453 27.293689, -79.584961 23.765237, -75.9375 22.43134, -73.959961 24.726875, -74.750977 27.176469, -79.189453 27.293689))\"\n",
    "\n",
    "occ_area <- occurrence(\n",
    "    scientificname = \"Acanthuridae\",\n",
    "    geometry = wkt_area\n",
    ")\n",
    "\n",
    "nrow(occ_area)\n",
    "\n",
    "plot_map_leaflet(occ_area)\n",
    "# If the leaflet map does not show correctly, use plot_map(occ_area)\n"
   ]
  },
  {
   "cell_type": "markdown",
   "metadata": {},
   "source": [
    "### 4. Get list of species (checklist)\n",
    "\n",
    "Sometimes we are only interested in knowing which species are present in a region. This information, called a checklist, can be easily obtained through the function `robis::checklist()`. Let's try with this same region."
   ]
  },
  {
   "cell_type": "code",
   "execution_count": null,
   "metadata": {
    "vscode": {
     "languageId": "r"
    }
   },
   "outputs": [],
   "source": [
    "check_area <- checklist(geometry = wkt_area)\n",
    "\n",
    "head(check_area)"
   ]
  },
  {
   "cell_type": "markdown",
   "metadata": {},
   "source": [
    "<span style=\"color: #cf0f4f;\">NOTE: if you try to pass a very complex geometry, all functions will probably fail! Usually `nchar(geom_wkt)` should be less than 1,500 characters.</span>"
   ]
  },
  {
   "cell_type": "markdown",
   "metadata": {},
   "source": [
    "### 5. Filtering data"
   ]
  },
  {
   "cell_type": "markdown",
   "metadata": {},
   "source": [
    "Once you have a dataset, you can filter the way you want. The sky is the limit! You can for example get records from just a period of time. Or, you can filter records that comes from a specific depth. Or even organisms that were sampled in areas with a certain maximum depth.\n",
    "\n",
    "<span style=\"color: #cf0f4f;\">NOTE: there is a difference between depth, which is related to the depth at which the organism was recorded and bathymetry, that is the depth of the area where the organism was recorded.</span>"
   ]
  },
  {
   "cell_type": "code",
   "execution_count": null,
   "metadata": {
    "vscode": {
     "languageId": "r"
    }
   },
   "outputs": [],
   "source": [
    "occ_1998_1999 <- occ_area |> \n",
    "    filter(date_year >= 1998 & date_year <= 1999)\n",
    "\n",
    "head(occ_1998_1999)\n",
    "\n",
    "occ_d10 <- occ_area |> \n",
    "    filter(depth >= 10)\n",
    "\n",
    "head(occ_d10)\n",
    "\n",
    "occ_b100 <- occ_area |> \n",
    "    filter(bathymetry >= 100)\n",
    "\n",
    "head(occ_b100)"
   ]
  },
  {
   "cell_type": "markdown",
   "metadata": {},
   "source": [
    "Check also the [quality flags of OBIS](https://manual.obis.org/dataquality.html) and how you can filter by those."
   ]
  },
  {
   "cell_type": "markdown",
   "metadata": {},
   "source": [
    "### 6. Time-series"
   ]
  },
  {
   "cell_type": "markdown",
   "metadata": {},
   "source": [
    "OBIS does not have (yet) a direct filter for time-series data. As you learned, records can be organized in events, with parentEvents aggregating events of the same survey. But, we can also use other techniques to get time series data."
   ]
  },
  {
   "cell_type": "code",
   "execution_count": null,
   "metadata": {
    "vscode": {
     "languageId": "r"
    }
   },
   "outputs": [],
   "source": [
    "occ_area_ts <- occ_area |> \n",
    "    group_by(dataset_id, \n",
    "             eventDate,\n",
    "             round(decimalLongitude, 3),\n",
    "             round(decimalLatitude, 3)) |> \n",
    "    distinct() |> \n",
    "    ungroup() |> \n",
    "    group_by(dataset_id) |> \n",
    "    distinct(eventDate)  |> \n",
    "    summarise(total = n()) |> \n",
    "    filter(total >= 3)\n",
    "\n",
    "ds_info <- dataset(datasetid = occ_area_ts$dataset_id[4])\n",
    "ds_info$title\n"
   ]
  },
  {
   "cell_type": "markdown",
   "metadata": {},
   "source": [
    "A special case is that of tracking data. You can learn more about tracking data in OBIS in the Ocean Tracking Network [website](https://oceantrackingnetwork.org/). Those datasets contains multiple measurements for the same organism, each at a time point.\n",
    "\n",
    "Let's download one of those [datasets from OTN](https://obis.org/dataset/78bf6b7f-555c-4bf7-8d81-a766c5bc736e)."
   ]
  },
  {
   "cell_type": "code",
   "execution_count": null,
   "metadata": {
    "vscode": {
     "languageId": "r"
    }
   },
   "outputs": [],
   "source": [
    "otn_dataset <- occurrence(datasetid = \"78bf6b7f-555c-4bf7-8d81-a766c5bc736e\")\n",
    "\n",
    "otn_dataset |> \n",
    "    select(scientificName, organismID, organismName, eventDate) |> \n",
    "    slice_head(n = 5)"
   ]
  },
  {
   "cell_type": "markdown",
   "metadata": {},
   "source": [
    "As you can see, each organism has a unique ID and name that we can use to track all records pertaining to that animal."
   ]
  },
  {
   "cell_type": "code",
   "execution_count": null,
   "metadata": {
    "vscode": {
     "languageId": "r"
    }
   },
   "outputs": [],
   "source": [
    "# Get the number of records by organism\n",
    "ind_recs <- otn_dataset |> \n",
    "    group_by(organismID, eventDate, decimalLongitude, decimalLatitude) |> \n",
    "    distinct(.keep_all = T) |> \n",
    "    ungroup() |> group_by(organismID) |> \n",
    "    summarise(total = n()) |> \n",
    "    arrange(desc(total))\n",
    "\n",
    "# Select the one with more records\n",
    "blue_shark1 <- otn_dataset |> \n",
    "    filter(organismID == ind_recs$organismID[1])\n",
    "head(blue_shark1)\n",
    "\n",
    "# Arrange by date and plot\n",
    "blue_shark1 <- blue_shark1 |> \n",
    "    group_by(eventDate, decimalLongitude, decimalLatitude) |> \n",
    "    distinct() |> \n",
    "    ungroup() |> \n",
    "    mutate(eventDate = lubridate::as_date(eventDate)) |> \n",
    "    arrange(eventDate)\n",
    "\n",
    "plot(blue_shark1[,c(\"decimalLongitude\", \"decimalLatitude\")])\n"
   ]
  },
  {
   "cell_type": "code",
   "execution_count": null,
   "metadata": {
    "vscode": {
     "languageId": "r"
    }
   },
   "outputs": [],
   "source": [
    "\n",
    "# Create an animated plot of movement\n",
    "wrld <- rnaturalearth::ne_countries(returnclass = \"sf\")\n",
    "wrld <- sf::st_as_sfc(wrld[,1])\n",
    "lims_lon <- range(blue_shark1$decimalLongitude)\n",
    "lims_lat <- range(blue_shark1$decimalLatitude)\n",
    "lims_lon <- lims_lon + c(-0.1, 0.1)\n",
    "lims_lat <- lims_lat + c(-0.1, 0.1)\n",
    "coords <- c(\"decimalLongitude\", \"decimalLatitude\")\n",
    "\n",
    "png_path <- file.path(tempdir(), \"frame%03d.png\")\n",
    "png(png_path)\n",
    "for (i in seq_len(nrow(blue_shark1))) {\n",
    "    plot(wrld, xlim = lims_lon, ylim = lims_lat, col = \"grey70\", main = blue_shark1$eventDate[i])\n",
    "    points(blue_shark1[i,coords], col = \"#044c98\", pch = 20, cex = 2)\n",
    "    if (i == 2) {\n",
    "        points(blue_shark1[(i-1),coords], col = \"#044b9889\", pch = 20, cex = 2)\n",
    "    } else if (i == 3) {\n",
    "        points(blue_shark1[(i-1),coords], col = \"#044b9889\", pch = 20, cex = 2)\n",
    "        points(blue_shark1[(i-2),coords], col = \"#044b982f\", pch = 20, cex = 2)\n",
    "    } else if (i > 3) {\n",
    "        points(blue_shark1[(i-1),coords], col = \"#044b9889\", pch = 20, cex = 2)\n",
    "        points(blue_shark1[(i-2),coords], col = \"#044b982f\", pch = 20, cex = 2)\n",
    "        points(blue_shark1[(i-3),coords], col = \"#044b9812\", pch = 20, cex = 2)\n",
    "    }\n",
    "}\n",
    "dev.off()\n",
    "png_files <- sprintf(png_path, seq_len(nrow(blue_shark1)))\n",
    "gif_file <- tempfile(fileext = \".gif\")\n",
    "gifski::gifski(png_files, gif_file, delay = .1)\n",
    "unlink(png_files)\n",
    "utils::browseURL(gif_file)\n",
    "# Note: if the file don't open, add this line, run again, and then you will\n",
    "# see the GIF on your files explorer on the left side of Colab (refresh if needed) \n",
    "# Then, just download it to your computer.\n",
    "file.copy(gif_file, \"movement.gif\")"
   ]
  },
  {
   "cell_type": "markdown",
   "metadata": {},
   "source": [
    "### 7. Extended measurements"
   ]
  },
  {
   "cell_type": "markdown",
   "metadata": {},
   "source": [
    "OBIS is not only occurrence data! Actually, OBIS has more than 180 million measurements associated to records. Those can have information like abundance of organisms, size, weight, or environmental measurements like temperature and salinity. To learn more about the extended Measurements or Facts (eMoF) [click here.](https://manual.obis.org/format_emof.html)\n",
    "\n",
    "To get the eMoF we use the `occurrence` function with the option `mof = TRUE`. It will download a rather complicated format with a column containing lists. The `robis` package comes with the function `unnest_extension` to help us. "
   ]
  },
  {
   "cell_type": "code",
   "execution_count": null,
   "metadata": {
    "vscode": {
     "languageId": "r"
    }
   },
   "outputs": [],
   "source": [
    "# Code by Elizabeth Lawrence\n",
    "canspp <- occurrence(areaid = 34, startdepth = 500, mof = T, startdate = \"2020-01-01\")\n",
    "hi <- unnest_extension(df = canspp, extension = \"MeasurementOrFact\", fields = \"eventDate\")\n",
    "hi$eventDate <- as.Date(hi$eventDate)\n",
    "hi$measurementValue <- as.numeric(hi$measurementValue)\n",
    "filtered_data <- hi %>%\n",
    "    filter(measurementType == \"Standardized weight of total capture for 15 min tow\")\n",
    "\n",
    "head(filtered_data)"
   ]
  }
 ],
 "metadata": {
  "kernelspec": {
   "display_name": "R",
   "language": "R",
   "name": "ir"
  },
  "language_info": {
   "codemirror_mode": "r",
   "file_extension": ".r",
   "mimetype": "text/x-r-source",
   "name": "R",
   "pygments_lexer": "r",
   "version": "4.3.1"
  }
 },
 "nbformat": 4,
 "nbformat_minor": 2
}
