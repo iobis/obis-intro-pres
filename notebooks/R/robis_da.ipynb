{
 "cells": [
  {
   "cell_type": "markdown",
   "metadata": {},
   "source": [
    "# Accessing OBIS through R: `robis` package\n",
    "\n",
    "`robis` is the main gateway for OBIS data through R. You can learn more about `robis` in the [OBIS manual.]()\n",
    "\n",
    "Hands-on outline:\n",
    "\n",
    "1. Downloading occurrence records\n",
    "2. Getting additional information about datasets\n",
    "3. Download records for a particular region\n",
    "4. Get species lists\n",
    "5. Filtering data\n",
    "6. Obtaining time series\n",
    "7. Getting extended measurements\n",
    "\n",
    "Before starting, we need to install a few packages on Google Colab:"
   ]
  },
  {
   "cell_type": "code",
   "execution_count": null,
   "metadata": {
    "vscode": {
     "languageId": "r"
    }
   },
   "outputs": [],
   "source": []
  },
  {
   "cell_type": "markdown",
   "metadata": {},
   "source": [
    "### 1. Downloading occurrence records\n",
    "\n",
    "To download records from OBIS we use the function `occurrence`. There are many arguments you can pass to download data for a specific species, taxonomic level or region.\n",
    "\n",
    "We will start by getting data for three taxonomic entities:\n",
    "\n",
    "<div style=\"display: flex; flex-direction: row; max-height: 200px; padding: 5px;\">\n",
    "<div>\n",
    "<p>Species: <i>Acanthurus chirurgus</i></p><img src=\"https://upload.wikimedia.org/wikipedia/commons/a/af/Acanthurus_chirurgus_and_Acanthurus_coeruleus.jpg\"></img>\n",
    "</div>\n",
    "<div>\n",
    "<p>Genus: <i>Acanthurus</i></p><img src=\"https://upload.wikimedia.org/wikipedia/commons/5/52/Atlantic_blue_tang_surgeonfish_%28%22Acanthurus_coeruleus%22%29_-13092009a.jpg\"></img>\n",
    "</div>\n",
    "<div>\n",
    "<p>Family: Acanthuridae</p><img src=\"https://upload.wikimedia.org/wikipedia/commons/9/9e/Acanthuridae_Zebrasoma_veliferum_1.jpg\"></img>\n",
    "</div>\n",
    "</div>"
   ]
  },
  {
   "cell_type": "code",
   "execution_count": null,
   "metadata": {
    "vscode": {
     "languageId": "r"
    }
   },
   "outputs": [],
   "source": [
    "library(robis)\n",
    "\n",
    "ach_chir <- occurrence(\"Acanthurus chirurgus\")\n",
    "\n",
    "nrow(ach_chir)\n",
    "head(ach_chir)"
   ]
  },
  {
   "cell_type": "markdown",
   "metadata": {},
   "source": [
    "We can make a map of the records. For that, we can use a handy function from the `obistools` package."
   ]
  },
  {
   "cell_type": "code",
   "execution_count": null,
   "metadata": {
    "vscode": {
     "languageId": "r"
    }
   },
   "outputs": [],
   "source": [
    "library(obistools)\n",
    "\n",
    "plot_map(ach_chir)"
   ]
  },
  {
   "cell_type": "markdown",
   "metadata": {},
   "source": [
    "OBIS is different in that it was created and is optimized for marine data. It matches its taxonomic names (the species identity) with the World Register of Marine Species (WoRMS). Each species (or any other taxonomic level) has a unique ID called **AphiaID**. You can see for example the entry for _Acanthurus chirurgus_ [here.](https://www.marinespecies.org/aphia.php?p=taxdetails&id=159580)\n",
    "\n",
    "This is important because species names can change over time, in case a species is reclassified into another group or when we discover that one species can be in fact multiple species.\n",
    "\n",
    "The `occurrence` function also accepts taxonid. So, the same we did on the first cell, can be done with:"
   ]
  },
  {
   "cell_type": "code",
   "execution_count": null,
   "metadata": {
    "vscode": {
     "languageId": "r"
    }
   },
   "outputs": [],
   "source": [
    "# This is the same as\n",
    "# ach_chir <- occurrence(\"Acanthurus chirurgus\")\n",
    "ach_chir <- occurrence(taxonid = 159580)"
   ]
  },
  {
   "cell_type": "markdown",
   "metadata": {},
   "source": [
    "Let's try the other taxonomic levels:"
   ]
  },
  {
   "cell_type": "code",
   "execution_count": null,
   "metadata": {
    "vscode": {
     "languageId": "r"
    }
   },
   "outputs": [],
   "source": [
    "ach_genus <- occurrence(\"Achanturus\")\n",
    "\n",
    "nrow(ach_genus)\n",
    "table(ach_genus$scientificName)\n",
    "\n",
    "ach_fam <- occurrence(\"Acanthuridae\")\n",
    "\n",
    "nrow(ach_fam)\n",
    "table(ach_fam$scientificName)"
   ]
  }
 ],
 "metadata": {
  "kernelspec": {
   "display_name": "R",
   "language": "R",
   "name": "ir"
  },
  "language_info": {
   "codemirror_mode": "r",
   "file_extension": ".r",
   "mimetype": "text/x-r-source",
   "name": "R",
   "pygments_lexer": "r",
   "version": "4.3.1"
  }
 },
 "nbformat": 4,
 "nbformat_minor": 2
}
