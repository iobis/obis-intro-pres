{
 "cells": [
  {
   "cell_type": "markdown",
   "metadata": {},
   "source": [
    "# speciesgrids demo\n",
    "\n",
    "_Originally written by Pieter Provoost and available in the [iobis/hackathon repository.](https://github.com/iobis/hackathon/blob/master/notebooks/Python/speciesgrids_demo.ipynb)_\n",
    "\n",
    "This notebook demonstrates querying the speciesgrids data product using geopandas and duckdb. The examples use the `s3://obis-products/speciesgrids/h3_7/` remote datasource as default. To query a local copy instead for better performance, use the local file path.\n",
    "\n",
    "## Regional species list using duckdb\n",
    "\n",
    "In the example below we use duckdb to query the gridded product with H3 resolution 7 to obtain a regional species list. The [geometry for our region of interest](https://wktmap.com/?b40bc054) is encoded as WKT and used in the duckdb query."
   ]
  },
  {
   "cell_type": "code",
   "execution_count": null,
   "metadata": {},
   "outputs": [],
   "source": [
    "# First install modules\n",
    "!pip install duckdb pyarrow geopandas lonboard seaborn"
   ]
  },
  {
   "cell_type": "code",
   "execution_count": null,
   "metadata": {},
   "outputs": [],
   "source": [
    "import duckdb\n",
    "import pyarrow.dataset as ds\n",
    "\n",
    "wkt = \"POLYGON ((2.694397 51.187951, 2.694397 51.271367, 3.013 51.271367, 3.013 51.187951, 2.694397 51.187951))\"\n",
    "\n",
    "con = duckdb.connect()\n",
    "con.sql(\"\"\"\n",
    "    install spatial;\n",
    "    load spatial;\n",
    "\"\"\")\n",
    "dataset = ds.dataset(\"s3://obis-products/speciesgrids/h3_7/\", format=\"parquet\")\n",
    "con.register(\"dataset\", dataset)\n",
    "\n",
    "df = con.execute(f\"\"\"\n",
    "\tselect\n",
    "        species,\n",
    "        sum(records) as records,\n",
    "        min(min_year) as min_year,\n",
    "        max(max_year) as max_year,\n",
    "        max(source_obis) as source_obis,\n",
    "        max(source_gbif) as source_gbif\n",
    "    from dataset\n",
    "    where st_intersects(st_geomfromwkb(geometry), st_geomfromtext('{wkt}')) \n",
    "    group by species\n",
    "    order by sum(records) desc\n",
    "\"\"\").fetchdf()\n",
    "df"
   ]
  },
  {
   "cell_type": "markdown",
   "metadata": {},
   "source": [
    "## Species distributions using geopandas\n",
    "\n",
    "This example uses geopandas to query the gridded product with H3 resolution 7 to obtain species distributions for the genus Gadus, and lonboard to visualize the distributions on a map."
   ]
  },
  {
   "cell_type": "code",
   "execution_count": null,
   "metadata": {},
   "outputs": [],
   "source": [
    "import geopandas\n",
    "import lonboard\n",
    "import seaborn as sns\n",
    "\n",
    "filters = [(\"genus\", \"==\", \"Gadus\")]\n",
    "gdf = geopandas.read_parquet(\"s3://obis-products/speciesgrids/h3_7/\", filters=filters)[[\"cell\", \"records\", \"geometry\", \"species\"]]\n",
    "\n",
    "def generate_colors(unique_species):\n",
    "    palette = sns.color_palette(\"Paired\", len(unique_species))\n",
    "    rgb_colors = [[int(r*255), int(g*255), int(b*255)] for r, g, b in palette]\n",
    "    color_map = dict(zip(unique_species, rgb_colors))\n",
    "    colors = lonboard.colormap.apply_categorical_cmap(gdf[\"species\"], color_map)\n",
    "    return colors\n",
    "\n",
    "point_layer = lonboard.ScatterplotLayer.from_geopandas(gdf)\n",
    "point_layer.get_radius = 10000\n",
    "point_layer.radius_max_pixels = 2\n",
    "point_layer.get_fill_color = generate_colors(gdf[\"species\"].unique())\n",
    "lonboard.Map([point_layer])"
   ]
  }
 ],
 "metadata": {
  "kernelspec": {
   "display_name": "3.12.0",
   "language": "python",
   "name": "python3"
  },
  "language_info": {
   "codemirror_mode": {
    "name": "ipython",
    "version": 3
   },
   "file_extension": ".py",
   "mimetype": "text/x-python",
   "name": "python",
   "nbconvert_exporter": "python",
   "pygments_lexer": "ipython3",
   "version": "3.12.0"
  }
 },
 "nbformat": 4,
 "nbformat_minor": 2
}
