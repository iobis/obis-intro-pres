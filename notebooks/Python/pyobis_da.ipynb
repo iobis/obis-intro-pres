{
 "cells": [
  {
   "cell_type": "markdown",
   "metadata": {},
   "source": [
    "# Accessing OBIS through Python: `pyobis` package\n",
    "\n",
    "`pyobis` is the main gateway for OBIS data through Python. You can learn more about `pyobis` in the [official documentation.](https://iobis.github.io/pyobis/index.html)\n",
    "\n",
    "Hands-on outline:\n",
    "\n",
    "1. Downloading occurrence records\n",
    "2. Download records for a particular region\n",
    "3. Get species lists\n",
    "\n",
    "Before starting, we need to install the package on Google Colab:"
   ]
  },
  {
   "cell_type": "code",
   "execution_count": null,
   "metadata": {},
   "outputs": [],
   "source": [
    "!pip install pyobis"
   ]
  },
  {
   "cell_type": "markdown",
   "metadata": {},
   "source": [
    "### 1. Downloading occurrence records\n",
    "\n",
    "To download records from OBIS we use the function `occurrence`. There are many arguments you can pass to download data for a specific species, taxonomic level or region.\n",
    "\n",
    "We will start by getting data for three taxonomic entities:\n",
    "\n",
    "<div style=\"display: flex; flex-direction: row; max-height: 200px; padding: 5px;\">\n",
    "<div>\n",
    "<p>Species: <i>Trichechus manatus</i></p><img src=\"https://upload.wikimedia.org/wikipedia/commons/thumb/0/09/Underwater_photography_of_mammal_manatee.jpg/1200px-Underwater_photography_of_mammal_manatee.jpg\" height=200></img>\n",
    "</div>\n",
    "<div>\n",
    "<p>Genus: <i>Trichechus</i></p><img src=\"https://upload.wikimedia.org/wikipedia/commons/d/d3/Enyi_Mmiri.jpg\" height=200></img>\n",
    "</div>\n",
    "</div>"
   ]
  },
  {
   "cell_type": "code",
   "execution_count": null,
   "metadata": {},
   "outputs": [],
   "source": [
    "import pandas as pd\n",
    "from pyobis import occurrences\n",
    "# the `size` is optional\n",
    "trich_man = occurrences.search(scientificname='Trichechus manatus', size = 100).execute() \n",
    "trich_man"
   ]
  },
  {
   "cell_type": "code",
   "execution_count": null,
   "metadata": {},
   "outputs": [],
   "source": [
    "trich_gen = occurrences.search(scientificname='Trichechus', size = 100).execute() \n",
    "trich_gen"
   ]
  },
  {
   "cell_type": "markdown",
   "metadata": {},
   "source": [
    "### 2. Downloading records for a region\n",
    "\n",
    "You can pass a geometry in Well-known Text (WKT) to the function. You can draw polygons in this website: https://wktmap.com/\n"
   ]
  },
  {
   "cell_type": "code",
   "execution_count": null,
   "metadata": {},
   "outputs": [],
   "source": [
    "wkt_area = \"POLYGON ((-79.189453 27.293689, -79.584961 23.765237, -75.9375 22.43134, -73.959961 24.726875, -74.750977 27.176469, -79.189453 27.293689))\"\n",
    "\n",
    "data = occurrences.search(\n",
    "    geometry=wkt_area, size=20\n",
    ").execute()\n",
    "\n",
    "data"
   ]
  },
  {
   "cell_type": "markdown",
   "metadata": {},
   "source": [
    "### 3. Get list of species (checklist)\n",
    "\n",
    "Sometimes we are only interested in knowing which species are present in a region. This information, called a checklist, can be easily obtained through the `checklist` module. Let's try with the Sirenia order."
   ]
  },
  {
   "cell_type": "code",
   "execution_count": null,
   "metadata": {},
   "outputs": [],
   "source": [
    "from pyobis import checklist\n",
    "\n",
    "check = checklist.list(taxonid = 159502).execute()\n",
    "print(check)"
   ]
  }
 ],
 "metadata": {
  "kernelspec": {
   "display_name": "Python 3",
   "language": "python",
   "name": "python3"
  },
  "language_info": {
   "codemirror_mode": {
    "name": "ipython",
    "version": 3
   },
   "file_extension": ".py",
   "mimetype": "text/x-python",
   "name": "python",
   "nbconvert_exporter": "python",
   "pygments_lexer": "ipython3",
   "version": "3.11.3"
  }
 },
 "nbformat": 4,
 "nbformat_minor": 2
}
