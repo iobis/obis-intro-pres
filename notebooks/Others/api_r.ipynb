{
 "cells": [
  {
   "cell_type": "markdown",
   "metadata": {},
   "source": [
    "# Using OBIS API in R\n",
    "\n",
    "With the OBIS API [(api.obis.org/)](https://api.obis.org/) you can get any data into your application. Maybe most relevant are the **\"Statistics\"** calls. In fact, the `robis` and `pyobis` packages are just wrappers around the API! So, while it is not very useful within R, it is interesting to show how such API calls can be done.\n",
    "\n",
    "Let's get statistics for the fiddler crab species _Leptuca thayeri_\n",
    "\n",
    "An example of a fiddler crab species:<br>\n",
    "<img src=\"https://upload.wikimedia.org/wikipedia/commons/f/f3/Fiddler_Crab_%28IMG8253%29.jpg\" height=200></img>"
   ]
  },
  {
   "cell_type": "code",
   "execution_count": null,
   "metadata": {
    "vscode": {
     "languageId": "r"
    }
   },
   "outputs": [],
   "source": [
    "library(httr)\n",
    "\n",
    "target_species <- \"Leptuca thayeri\"\n",
    "\n",
    "stats_sp <- GET(\"https://api.obis.org/v3/statistics?scientificname=Leptuca%20thayeri\")\n",
    "\n",
    "str(stats_sp)\n"
   ]
  },
  {
   "cell_type": "code",
   "execution_count": null,
   "metadata": {
    "vscode": {
     "languageId": "r"
    }
   },
   "outputs": [],
   "source": [
    "stats_sp_pars <- content(stats_sp, as = \"parsed\")\n",
    "\n",
    "stats_sp_pars"
   ]
  },
  {
   "cell_type": "markdown",
   "metadata": {},
   "source": [
    "We can also add other filters. For example, to get data for only 2009 onwards we use:\n",
    "\n",
    "`https://api.obis.org/v3/statistics?scientificname=Leptuca%20thayeri&startdate=2009-01-01`"
   ]
  },
  {
   "cell_type": "code",
   "execution_count": null,
   "metadata": {
    "vscode": {
     "languageId": "r"
    }
   },
   "outputs": [],
   "source": [
    "stats_sp <- GET(\"https://api.obis.org/v3/statistics?scientificname=Leptuca%20thayeri&startdate=2009-01-01\")\n",
    "\n",
    "content(stats_sp, as = \"parsed\")\n"
   ]
  },
  {
   "cell_type": "markdown",
   "metadata": {},
   "source": [
    "We can modify it into a function, that can be used in an application like Shiny:"
   ]
  },
  {
   "cell_type": "code",
   "execution_count": null,
   "metadata": {
    "vscode": {
     "languageId": "r"
    }
   },
   "outputs": [],
   "source": [
    "get_stats <- function(species, start_year = NULL) {\n",
    "    if (is.null(start_year)){\n",
    "        start_year <- \"\"\n",
    "    } else {\n",
    "        start_year <- paste0(\"&startdate=\", start_year)\n",
    "    }\n",
    "    stats_sp <- GET(\n",
    "        glue::glue(\"https://api.obis.org/v3/statistics?scientificname={gsub(' ', '%20', species)}{start_year}\")\n",
    "    )\n",
    "    cc <- content(stats_sp, as = \"parsed\")\n",
    "    cc <- as.data.frame(cc)\n",
    "    colnames(cc)[6:7] <- c(\"year_min\", \"year_max\")\n",
    "    return(cc)\n",
    "}\n",
    "\n",
    "get_stats(\"Acanthurus chirurgus\")\n",
    "\n",
    "get_stats(\"Acanthurus chirurgus\", start_year = \"2010-01-01\")"
   ]
  }
 ],
 "metadata": {
  "kernelspec": {
   "display_name": "R",
   "language": "R",
   "name": "ir"
  },
  "language_info": {
   "codemirror_mode": "r",
   "file_extension": ".r",
   "mimetype": "text/x-r-source",
   "name": "R",
   "pygments_lexer": "r",
   "version": "4.3.1"
  }
 },
 "nbformat": 4,
 "nbformat_minor": 2
}
